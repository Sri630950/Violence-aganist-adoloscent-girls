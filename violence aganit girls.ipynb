{
 "cells": [
  {
   "cell_type": "code",
   "execution_count": 1,
   "id": "ec5c85a6-b240-49a3-96ec-7821cd3ceeeb",
   "metadata": {},
   "outputs": [],
   "source": [
    "import pandas as pd\n",
    "import numpy as np\n",
    "import seaborn as sns\n",
    "import matplotlib.pyplot as plt\n",
    "\n",
    "from sklearn.model_selection import train_test_split, GridSearchCV\n",
    "from sklearn.impute import SimpleImputer\n",
    "from sklearn.metrics import f1_score, classification_report, confusion_matrix\n",
    "from sklearn.preprocessing import OneHotEncoder, LabelEncoder, StandardScaler\n",
    "from sklearn.compose import ColumnTransformer\n",
    "from sklearn.tree import DecisionTreeClassifier\n",
    "from sklearn.neighbors import KNeighborsClassifier\n",
    "from sklearn.neural_network import MLPClassifier\n",
    "from sklearn.linear_model import LogisticRegression\n",
    "from sklearn.discriminant_analysis import LinearDiscriminantAnalysis\n",
    "from sklearn.ensemble import BaggingClassifier, RandomForestClassifier, GradientBoostingClassifier, AdaBoostClassifier\n",
    "from sklearn.svm import SVC, NuSVC\n",
    "\"\"\"rom xgboost import XGBClassifier\"\"\"\n",
    "from sklearn.multioutput import MultiOutputClassifier"
   ]
  },
  {
   "cell_type": "code",
   "execution_count": 2,
   "id": "2d8f6126-eeb1-4d90-a796-08eba50d2ea9",
   "metadata": {},
   "outputs": [],
   "source": [
    "# Read the datafile\n",
    "df = pd.read_csv(\"VAW.csv\", na_values=[\" \", \"_T: Any\"], encoding=\"utf-8\")"
   ]
  },
  {
   "cell_type": "code",
   "execution_count": 3,
   "id": "55b9462b",
   "metadata": {},
   "outputs": [],
   "source": [
    "df=df[::56]"
   ]
  },
  {
   "cell_type": "code",
   "execution_count": 4,
   "id": "81fe5384",
   "metadata": {},
   "outputs": [
    {
     "data": {
      "text/html": [
       "<div>\n",
       "<style scoped>\n",
       "    .dataframe tbody tr th:only-of-type {\n",
       "        vertical-align: middle;\n",
       "    }\n",
       "\n",
       "    .dataframe tbody tr th {\n",
       "        vertical-align: top;\n",
       "    }\n",
       "\n",
       "    .dataframe thead th {\n",
       "        text-align: right;\n",
       "    }\n",
       "</style>\n",
       "<table border=\"1\" class=\"dataframe\">\n",
       "  <thead>\n",
       "    <tr style=\"text-align: right;\">\n",
       "      <th></th>\n",
       "      <th>DATAFLOW</th>\n",
       "      <th>FREQ: Frequency</th>\n",
       "      <th>TIME_PERIOD: Time</th>\n",
       "      <th>GEO_PICT: Pacific Island Countries and territories</th>\n",
       "      <th>TOPIC: Topic</th>\n",
       "      <th>INDICATOR: Indicator</th>\n",
       "      <th>SEX: Sex</th>\n",
       "      <th>AGE: Age</th>\n",
       "      <th>CONDITION: Women’s condition</th>\n",
       "      <th>VIOLENCE_TYPE: Type of violence</th>\n",
       "      <th>...</th>\n",
       "      <th>OUTCOME: Outcome</th>\n",
       "      <th>RESPONSE: Response</th>\n",
       "      <th>HELP_REASON: Reason for searching help</th>\n",
       "      <th>HELP_PROVIDER: Help provider</th>\n",
       "      <th>OBS_VALUE</th>\n",
       "      <th>UNIT_MEASURE: Unit of measure</th>\n",
       "      <th>UNIT_MULT: Unit multiplier</th>\n",
       "      <th>OBS_STATUS: Observation Status</th>\n",
       "      <th>DATA_SOURCE: Data source</th>\n",
       "      <th>OBS_COMMENT: Comment</th>\n",
       "    </tr>\n",
       "  </thead>\n",
       "  <tbody>\n",
       "    <tr>\n",
       "      <th>0</th>\n",
       "      <td>SPC:DF_VAW(1.0)</td>\n",
       "      <td>A: Annual</td>\n",
       "      <td>2013</td>\n",
       "      <td>CK: Cook Islands</td>\n",
       "      <td>VAW_TOPIC_001: Types of violence against women...</td>\n",
       "      <td>NUMPERRF: Number of persons in relative frequency</td>\n",
       "      <td>F: Female</td>\n",
       "      <td>Y15T64: 15-64</td>\n",
       "      <td>EVPART: Ever-partnered</td>\n",
       "      <td>CONT_ECON: At least one act of economic abusive</td>\n",
       "      <td>...</td>\n",
       "      <td>NaN</td>\n",
       "      <td>NaN</td>\n",
       "      <td>NaN</td>\n",
       "      <td>NaN</td>\n",
       "      <td>85.0</td>\n",
       "      <td>PERCENT: percent</td>\n",
       "      <td>NaN</td>\n",
       "      <td>NaN</td>\n",
       "      <td>FHSS</td>\n",
       "      <td>NaN</td>\n",
       "    </tr>\n",
       "    <tr>\n",
       "      <th>56</th>\n",
       "      <td>SPC:DF_VAW(1.0)</td>\n",
       "      <td>A: Annual</td>\n",
       "      <td>2013</td>\n",
       "      <td>CK: Cook Islands</td>\n",
       "      <td>VAW_TOPIC_008: Non-Partner Physical violence b...</td>\n",
       "      <td>NUMPERRF: Number of persons in relative frequency</td>\n",
       "      <td>F: Female</td>\n",
       "      <td>Y15T64: 15-64</td>\n",
       "      <td>NaN</td>\n",
       "      <td>PHYS: Physical violence</td>\n",
       "      <td>...</td>\n",
       "      <td>NaN</td>\n",
       "      <td>NaN</td>\n",
       "      <td>NaN</td>\n",
       "      <td>NaN</td>\n",
       "      <td>16.5</td>\n",
       "      <td>PERCENT: percent</td>\n",
       "      <td>NaN</td>\n",
       "      <td>NaN</td>\n",
       "      <td>FHSS</td>\n",
       "      <td>NaN</td>\n",
       "    </tr>\n",
       "    <tr>\n",
       "      <th>112</th>\n",
       "      <td>SPC:DF_VAW(1.0)</td>\n",
       "      <td>A: Annual</td>\n",
       "      <td>2013</td>\n",
       "      <td>CK: Cook Islands</td>\n",
       "      <td>VAW_TOPIC_016: Responses to partner violence -...</td>\n",
       "      <td>NUMPERRF: Number of persons in relative frequency</td>\n",
       "      <td>F: Female</td>\n",
       "      <td>Y15T64: 15-64</td>\n",
       "      <td>NaN</td>\n",
       "      <td>NaN</td>\n",
       "      <td>...</td>\n",
       "      <td>NaN</td>\n",
       "      <td>NEVER: Never told anyone about the violence</td>\n",
       "      <td>NaN</td>\n",
       "      <td>NaN</td>\n",
       "      <td>28.3</td>\n",
       "      <td>PERCENT: percent</td>\n",
       "      <td>NaN</td>\n",
       "      <td>NaN</td>\n",
       "      <td>FHSS</td>\n",
       "      <td>NaN</td>\n",
       "    </tr>\n",
       "    <tr>\n",
       "      <th>168</th>\n",
       "      <td>SPC:DF_VAW(1.0)</td>\n",
       "      <td>A: Annual</td>\n",
       "      <td>2011</td>\n",
       "      <td>FJ: Fiji</td>\n",
       "      <td>VAW_TOPIC_006: Acts of controlling behaviours ...</td>\n",
       "      <td>NUMPERRF: Number of persons in relative frequency</td>\n",
       "      <td>F: Female</td>\n",
       "      <td>Y15T64: 15-64</td>\n",
       "      <td>EVPART: Ever-partnered</td>\n",
       "      <td>CONT_WHERE: Partner insists on knowing where s...</td>\n",
       "      <td>...</td>\n",
       "      <td>NaN</td>\n",
       "      <td>NaN</td>\n",
       "      <td>NaN</td>\n",
       "      <td>NaN</td>\n",
       "      <td>98.0</td>\n",
       "      <td>PERCENT: percent</td>\n",
       "      <td>NaN</td>\n",
       "      <td>O: Missing value</td>\n",
       "      <td>Fiji VAW report 2010-2011</td>\n",
       "      <td>Women age 18-64 years.</td>\n",
       "    </tr>\n",
       "    <tr>\n",
       "      <th>224</th>\n",
       "      <td>SPC:DF_VAW(1.0)</td>\n",
       "      <td>A: Annual</td>\n",
       "      <td>2011</td>\n",
       "      <td>FJ: Fiji</td>\n",
       "      <td>VAW_TOPIC_014: Impact of partner violence on w...</td>\n",
       "      <td>NUMPERRF: Number of persons in relative frequency</td>\n",
       "      <td>F: Female</td>\n",
       "      <td>Y15T64: 15-64</td>\n",
       "      <td>W4M: Working for money</td>\n",
       "      <td>NaN</td>\n",
       "      <td>...</td>\n",
       "      <td>CONCENTRATE: Unable to concentrate on their wo...</td>\n",
       "      <td>NaN</td>\n",
       "      <td>NaN</td>\n",
       "      <td>NaN</td>\n",
       "      <td>28.7</td>\n",
       "      <td>PERCENT: percent</td>\n",
       "      <td>NaN</td>\n",
       "      <td>NaN</td>\n",
       "      <td>Fiji VAW report 2010-2011</td>\n",
       "      <td>Women age 18-64 years.</td>\n",
       "    </tr>\n",
       "    <tr>\n",
       "      <th>...</th>\n",
       "      <td>...</td>\n",
       "      <td>...</td>\n",
       "      <td>...</td>\n",
       "      <td>...</td>\n",
       "      <td>...</td>\n",
       "      <td>...</td>\n",
       "      <td>...</td>\n",
       "      <td>...</td>\n",
       "      <td>...</td>\n",
       "      <td>...</td>\n",
       "      <td>...</td>\n",
       "      <td>...</td>\n",
       "      <td>...</td>\n",
       "      <td>...</td>\n",
       "      <td>...</td>\n",
       "      <td>...</td>\n",
       "      <td>...</td>\n",
       "      <td>...</td>\n",
       "      <td>...</td>\n",
       "      <td>...</td>\n",
       "      <td>...</td>\n",
       "    </tr>\n",
       "    <tr>\n",
       "      <th>23912</th>\n",
       "      <td>SPC:DF_VAW(1.0)</td>\n",
       "      <td>A: Annual</td>\n",
       "      <td>2007</td>\n",
       "      <td>TV: Tuvalu</td>\n",
       "      <td>VAW_TOPIC_014: Impact of partner violence on w...</td>\n",
       "      <td>NUMPERRF: Number of persons in relative frequency</td>\n",
       "      <td>F: Female</td>\n",
       "      <td>Y15T64: 15-64</td>\n",
       "      <td>W4M: Working for money</td>\n",
       "      <td>NaN</td>\n",
       "      <td>...</td>\n",
       "      <td>CONCENTRATE: Unable to concentrate on their wo...</td>\n",
       "      <td>NaN</td>\n",
       "      <td>NaN</td>\n",
       "      <td>NaN</td>\n",
       "      <td>98.0</td>\n",
       "      <td>PERCENT: percent</td>\n",
       "      <td>NaN</td>\n",
       "      <td>O: Missing value</td>\n",
       "      <td>DHS</td>\n",
       "      <td>Ever married women 15-49.</td>\n",
       "    </tr>\n",
       "    <tr>\n",
       "      <th>23968</th>\n",
       "      <td>SPC:DF_VAW(1.0)</td>\n",
       "      <td>A: Annual</td>\n",
       "      <td>2011</td>\n",
       "      <td>VU: Vanuatu</td>\n",
       "      <td>VAW_TOPIC_004: Acts of sexual violence by part...</td>\n",
       "      <td>NUMPERRF: Number of persons in relative frequency</td>\n",
       "      <td>F: Female</td>\n",
       "      <td>Y15T64: 15-64</td>\n",
       "      <td>EVPART: Ever-partnered</td>\n",
       "      <td>SEX_FORCE: Physically forced to have sexual in...</td>\n",
       "      <td>...</td>\n",
       "      <td>NaN</td>\n",
       "      <td>NaN</td>\n",
       "      <td>NaN</td>\n",
       "      <td>NaN</td>\n",
       "      <td>98.0</td>\n",
       "      <td>PERCENT: percent</td>\n",
       "      <td>NaN</td>\n",
       "      <td>O: Missing value</td>\n",
       "      <td>Vanuatu 2011 National Survey on Women's Lives ...</td>\n",
       "      <td>UN Women: Global database on Violence against ...</td>\n",
       "    </tr>\n",
       "    <tr>\n",
       "      <th>24024</th>\n",
       "      <td>SPC:DF_VAW(1.0)</td>\n",
       "      <td>A: Annual</td>\n",
       "      <td>2011</td>\n",
       "      <td>VU: Vanuatu</td>\n",
       "      <td>VAW_TOPIC_012: Impact of partner violence on w...</td>\n",
       "      <td>NUMPERRF: Number of persons in relative frequency</td>\n",
       "      <td>F: Female</td>\n",
       "      <td>Y15T64: 15-64</td>\n",
       "      <td>NaN</td>\n",
       "      <td>NaN</td>\n",
       "      <td>...</td>\n",
       "      <td>HEALTHAFF: Affected their health</td>\n",
       "      <td>NaN</td>\n",
       "      <td>NaN</td>\n",
       "      <td>NaN</td>\n",
       "      <td>46.0</td>\n",
       "      <td>PERCENT: percent</td>\n",
       "      <td>NaN</td>\n",
       "      <td>NaN</td>\n",
       "      <td>Vanuatu 2011 National Survey on Women's Lives ...</td>\n",
       "      <td>UN Women: Global database on Violence against ...</td>\n",
       "    </tr>\n",
       "    <tr>\n",
       "      <th>24080</th>\n",
       "      <td>SPC:DF_VAW(1.0)</td>\n",
       "      <td>A: Annual</td>\n",
       "      <td>2006</td>\n",
       "      <td>WS: Samoa</td>\n",
       "      <td>VAW_TOPIC_003: Act of physical violence by par...</td>\n",
       "      <td>NUMPERRF: Number of persons in relative frequency</td>\n",
       "      <td>F: Female</td>\n",
       "      <td>Y15T64: 15-64</td>\n",
       "      <td>EVPART: Ever-partnered</td>\n",
       "      <td>PHYS_FIST: Hit with a fist or something else</td>\n",
       "      <td>...</td>\n",
       "      <td>NaN</td>\n",
       "      <td>NaN</td>\n",
       "      <td>NaN</td>\n",
       "      <td>NaN</td>\n",
       "      <td>9.4</td>\n",
       "      <td>PERCENT: percent</td>\n",
       "      <td>NaN</td>\n",
       "      <td>NaN</td>\n",
       "      <td>FHSS</td>\n",
       "      <td>Women 15-49.</td>\n",
       "    </tr>\n",
       "    <tr>\n",
       "      <th>24136</th>\n",
       "      <td>SPC:DF_VAW(1.0)</td>\n",
       "      <td>A: Annual</td>\n",
       "      <td>2006</td>\n",
       "      <td>WS: Samoa</td>\n",
       "      <td>VAW_TOPIC_010: Child sexual abuse prevalence b...</td>\n",
       "      <td>NUMPERRF: Number of persons in relative frequency</td>\n",
       "      <td>F: Female</td>\n",
       "      <td>Y15T64: 15-64</td>\n",
       "      <td>NaN</td>\n",
       "      <td>SEX_CHILD: Child sexual abuse</td>\n",
       "      <td>...</td>\n",
       "      <td>NaN</td>\n",
       "      <td>NaN</td>\n",
       "      <td>NaN</td>\n",
       "      <td>NaN</td>\n",
       "      <td>98.0</td>\n",
       "      <td>PERCENT: percent</td>\n",
       "      <td>NaN</td>\n",
       "      <td>O: Missing value</td>\n",
       "      <td>FHSS</td>\n",
       "      <td>Women 15-49.</td>\n",
       "    </tr>\n",
       "  </tbody>\n",
       "</table>\n",
       "<p>432 rows × 23 columns</p>\n",
       "</div>"
      ],
      "text/plain": [
       "              DATAFLOW FREQ: Frequency  TIME_PERIOD: Time  \\\n",
       "0      SPC:DF_VAW(1.0)       A: Annual               2013   \n",
       "56     SPC:DF_VAW(1.0)       A: Annual               2013   \n",
       "112    SPC:DF_VAW(1.0)       A: Annual               2013   \n",
       "168    SPC:DF_VAW(1.0)       A: Annual               2011   \n",
       "224    SPC:DF_VAW(1.0)       A: Annual               2011   \n",
       "...                ...             ...                ...   \n",
       "23912  SPC:DF_VAW(1.0)       A: Annual               2007   \n",
       "23968  SPC:DF_VAW(1.0)       A: Annual               2011   \n",
       "24024  SPC:DF_VAW(1.0)       A: Annual               2011   \n",
       "24080  SPC:DF_VAW(1.0)       A: Annual               2006   \n",
       "24136  SPC:DF_VAW(1.0)       A: Annual               2006   \n",
       "\n",
       "      GEO_PICT: Pacific Island Countries and territories  \\\n",
       "0                                       CK: Cook Islands   \n",
       "56                                      CK: Cook Islands   \n",
       "112                                     CK: Cook Islands   \n",
       "168                                             FJ: Fiji   \n",
       "224                                             FJ: Fiji   \n",
       "...                                                  ...   \n",
       "23912                                         TV: Tuvalu   \n",
       "23968                                        VU: Vanuatu   \n",
       "24024                                        VU: Vanuatu   \n",
       "24080                                          WS: Samoa   \n",
       "24136                                          WS: Samoa   \n",
       "\n",
       "                                            TOPIC: Topic  \\\n",
       "0      VAW_TOPIC_001: Types of violence against women...   \n",
       "56     VAW_TOPIC_008: Non-Partner Physical violence b...   \n",
       "112    VAW_TOPIC_016: Responses to partner violence -...   \n",
       "168    VAW_TOPIC_006: Acts of controlling behaviours ...   \n",
       "224    VAW_TOPIC_014: Impact of partner violence on w...   \n",
       "...                                                  ...   \n",
       "23912  VAW_TOPIC_014: Impact of partner violence on w...   \n",
       "23968  VAW_TOPIC_004: Acts of sexual violence by part...   \n",
       "24024  VAW_TOPIC_012: Impact of partner violence on w...   \n",
       "24080  VAW_TOPIC_003: Act of physical violence by par...   \n",
       "24136  VAW_TOPIC_010: Child sexual abuse prevalence b...   \n",
       "\n",
       "                                    INDICATOR: Indicator   SEX: Sex  \\\n",
       "0      NUMPERRF: Number of persons in relative frequency  F: Female   \n",
       "56     NUMPERRF: Number of persons in relative frequency  F: Female   \n",
       "112    NUMPERRF: Number of persons in relative frequency  F: Female   \n",
       "168    NUMPERRF: Number of persons in relative frequency  F: Female   \n",
       "224    NUMPERRF: Number of persons in relative frequency  F: Female   \n",
       "...                                                  ...        ...   \n",
       "23912  NUMPERRF: Number of persons in relative frequency  F: Female   \n",
       "23968  NUMPERRF: Number of persons in relative frequency  F: Female   \n",
       "24024  NUMPERRF: Number of persons in relative frequency  F: Female   \n",
       "24080  NUMPERRF: Number of persons in relative frequency  F: Female   \n",
       "24136  NUMPERRF: Number of persons in relative frequency  F: Female   \n",
       "\n",
       "            AGE: Age CONDITION: Women’s condition  \\\n",
       "0      Y15T64: 15-64       EVPART: Ever-partnered   \n",
       "56     Y15T64: 15-64                          NaN   \n",
       "112    Y15T64: 15-64                          NaN   \n",
       "168    Y15T64: 15-64       EVPART: Ever-partnered   \n",
       "224    Y15T64: 15-64       W4M: Working for money   \n",
       "...              ...                          ...   \n",
       "23912  Y15T64: 15-64       W4M: Working for money   \n",
       "23968  Y15T64: 15-64       EVPART: Ever-partnered   \n",
       "24024  Y15T64: 15-64                          NaN   \n",
       "24080  Y15T64: 15-64       EVPART: Ever-partnered   \n",
       "24136  Y15T64: 15-64                          NaN   \n",
       "\n",
       "                         VIOLENCE_TYPE: Type of violence  ...  \\\n",
       "0        CONT_ECON: At least one act of economic abusive  ...   \n",
       "56                               PHYS: Physical violence  ...   \n",
       "112                                                  NaN  ...   \n",
       "168    CONT_WHERE: Partner insists on knowing where s...  ...   \n",
       "224                                                  NaN  ...   \n",
       "...                                                  ...  ...   \n",
       "23912                                                NaN  ...   \n",
       "23968  SEX_FORCE: Physically forced to have sexual in...  ...   \n",
       "24024                                                NaN  ...   \n",
       "24080       PHYS_FIST: Hit with a fist or something else  ...   \n",
       "24136                      SEX_CHILD: Child sexual abuse  ...   \n",
       "\n",
       "                                        OUTCOME: Outcome  \\\n",
       "0                                                    NaN   \n",
       "56                                                   NaN   \n",
       "112                                                  NaN   \n",
       "168                                                  NaN   \n",
       "224    CONCENTRATE: Unable to concentrate on their wo...   \n",
       "...                                                  ...   \n",
       "23912  CONCENTRATE: Unable to concentrate on their wo...   \n",
       "23968                                                NaN   \n",
       "24024                   HEALTHAFF: Affected their health   \n",
       "24080                                                NaN   \n",
       "24136                                                NaN   \n",
       "\n",
       "                                RESPONSE: Response  \\\n",
       "0                                              NaN   \n",
       "56                                             NaN   \n",
       "112    NEVER: Never told anyone about the violence   \n",
       "168                                            NaN   \n",
       "224                                            NaN   \n",
       "...                                            ...   \n",
       "23912                                          NaN   \n",
       "23968                                          NaN   \n",
       "24024                                          NaN   \n",
       "24080                                          NaN   \n",
       "24136                                          NaN   \n",
       "\n",
       "      HELP_REASON: Reason for searching help HELP_PROVIDER: Help provider  \\\n",
       "0                                        NaN                          NaN   \n",
       "56                                       NaN                          NaN   \n",
       "112                                      NaN                          NaN   \n",
       "168                                      NaN                          NaN   \n",
       "224                                      NaN                          NaN   \n",
       "...                                      ...                          ...   \n",
       "23912                                    NaN                          NaN   \n",
       "23968                                    NaN                          NaN   \n",
       "24024                                    NaN                          NaN   \n",
       "24080                                    NaN                          NaN   \n",
       "24136                                    NaN                          NaN   \n",
       "\n",
       "      OBS_VALUE UNIT_MEASURE: Unit of measure UNIT_MULT: Unit multiplier  \\\n",
       "0          85.0              PERCENT: percent                        NaN   \n",
       "56         16.5              PERCENT: percent                        NaN   \n",
       "112        28.3              PERCENT: percent                        NaN   \n",
       "168        98.0              PERCENT: percent                        NaN   \n",
       "224        28.7              PERCENT: percent                        NaN   \n",
       "...         ...                           ...                        ...   \n",
       "23912      98.0              PERCENT: percent                        NaN   \n",
       "23968      98.0              PERCENT: percent                        NaN   \n",
       "24024      46.0              PERCENT: percent                        NaN   \n",
       "24080       9.4              PERCENT: percent                        NaN   \n",
       "24136      98.0              PERCENT: percent                        NaN   \n",
       "\n",
       "       OBS_STATUS: Observation Status  \\\n",
       "0                                 NaN   \n",
       "56                                NaN   \n",
       "112                               NaN   \n",
       "168                  O: Missing value   \n",
       "224                               NaN   \n",
       "...                               ...   \n",
       "23912                O: Missing value   \n",
       "23968                O: Missing value   \n",
       "24024                             NaN   \n",
       "24080                             NaN   \n",
       "24136                O: Missing value   \n",
       "\n",
       "                                DATA_SOURCE: Data source  \\\n",
       "0                                                   FHSS   \n",
       "56                                                  FHSS   \n",
       "112                                                 FHSS   \n",
       "168                            Fiji VAW report 2010-2011   \n",
       "224                            Fiji VAW report 2010-2011   \n",
       "...                                                  ...   \n",
       "23912                                                DHS   \n",
       "23968  Vanuatu 2011 National Survey on Women's Lives ...   \n",
       "24024  Vanuatu 2011 National Survey on Women's Lives ...   \n",
       "24080                                               FHSS   \n",
       "24136                                               FHSS   \n",
       "\n",
       "                                    OBS_COMMENT: Comment  \n",
       "0                                                    NaN  \n",
       "56                                                   NaN  \n",
       "112                                                  NaN  \n",
       "168                               Women age 18-64 years.  \n",
       "224                               Women age 18-64 years.  \n",
       "...                                                  ...  \n",
       "23912                          Ever married women 15-49.  \n",
       "23968  UN Women: Global database on Violence against ...  \n",
       "24024  UN Women: Global database on Violence against ...  \n",
       "24080                                       Women 15-49.  \n",
       "24136                                       Women 15-49.  \n",
       "\n",
       "[432 rows x 23 columns]"
      ]
     },
     "execution_count": 4,
     "metadata": {},
     "output_type": "execute_result"
    }
   ],
   "source": [
    "df"
   ]
  },
  {
   "cell_type": "markdown",
   "id": "32f21c8e-29bd-4573-9620-c4d557d90ab1",
   "metadata": {
    "tags": []
   },
   "source": [
    "#### Preprocessing"
   ]
  },
  {
   "cell_type": "code",
   "execution_count": 5,
   "id": "966bcd31-853e-4a12-b998-d79d384660be",
   "metadata": {},
   "outputs": [],
   "source": [
    "df.columns = df.columns.map(lambda x : x.split(\":\")[0])"
   ]
  },
  {
   "cell_type": "code",
   "execution_count": 6,
   "id": "35b51719-3506-49d8-8b52-0c55a041529a",
   "metadata": {},
   "outputs": [],
   "source": [
    "df.replace(to_replace=r\"\\:(.*)\", value=\"\", inplace=True, regex=True)"
   ]
  },
  {
   "cell_type": "code",
   "execution_count": 7,
   "id": "291899ec-74d5-48c5-8821-bf4bd28cc457",
   "metadata": {},
   "outputs": [],
   "source": [
    "df[\"TIME_PERIOD\"] = pd.to_datetime(arg=df[\"TIME_PERIOD\"], format=\"%Y\")\n",
    "df[\"OBS_VALUE\"] = pd.to_numeric(arg=df[\"OBS_VALUE\"])\n",
    "\n",
    "object_colnames = df.select_dtypes(include=\"object\").columns\n",
    "df[object_colnames] = df[object_colnames].astype(\"category\")"
   ]
  },
  {
   "cell_type": "code",
   "execution_count": 8,
   "id": "687412ce-baf0-4f21-aee8-fce46df40c0c",
   "metadata": {},
   "outputs": [
    {
     "data": {
      "text/html": [
       "<div>\n",
       "<style scoped>\n",
       "    .dataframe tbody tr th:only-of-type {\n",
       "        vertical-align: middle;\n",
       "    }\n",
       "\n",
       "    .dataframe tbody tr th {\n",
       "        vertical-align: top;\n",
       "    }\n",
       "\n",
       "    .dataframe thead th {\n",
       "        text-align: right;\n",
       "    }\n",
       "</style>\n",
       "<table border=\"1\" class=\"dataframe\">\n",
       "  <thead>\n",
       "    <tr style=\"text-align: right;\">\n",
       "      <th></th>\n",
       "      <th>DATAFLOW</th>\n",
       "      <th>FREQ</th>\n",
       "      <th>TIME_PERIOD</th>\n",
       "      <th>GEO_PICT</th>\n",
       "      <th>TOPIC</th>\n",
       "      <th>INDICATOR</th>\n",
       "      <th>SEX</th>\n",
       "      <th>AGE</th>\n",
       "      <th>CONDITION</th>\n",
       "      <th>VIOLENCE_TYPE</th>\n",
       "      <th>...</th>\n",
       "      <th>OUTCOME</th>\n",
       "      <th>RESPONSE</th>\n",
       "      <th>HELP_REASON</th>\n",
       "      <th>HELP_PROVIDER</th>\n",
       "      <th>OBS_VALUE</th>\n",
       "      <th>UNIT_MEASURE</th>\n",
       "      <th>UNIT_MULT</th>\n",
       "      <th>OBS_STATUS</th>\n",
       "      <th>DATA_SOURCE</th>\n",
       "      <th>OBS_COMMENT</th>\n",
       "    </tr>\n",
       "  </thead>\n",
       "  <tbody>\n",
       "    <tr>\n",
       "      <th>0</th>\n",
       "      <td>SPC</td>\n",
       "      <td>A</td>\n",
       "      <td>2013-01-01</td>\n",
       "      <td>CK</td>\n",
       "      <td>VAW_TOPIC_001</td>\n",
       "      <td>NUMPERRF</td>\n",
       "      <td>F</td>\n",
       "      <td>Y15T64</td>\n",
       "      <td>EVPART</td>\n",
       "      <td>CONT_ECON</td>\n",
       "      <td>...</td>\n",
       "      <td>NaN</td>\n",
       "      <td>NaN</td>\n",
       "      <td>NaN</td>\n",
       "      <td>NaN</td>\n",
       "      <td>85.0</td>\n",
       "      <td>PERCENT</td>\n",
       "      <td>NaN</td>\n",
       "      <td>NaN</td>\n",
       "      <td>FHSS</td>\n",
       "      <td>NaN</td>\n",
       "    </tr>\n",
       "    <tr>\n",
       "      <th>56</th>\n",
       "      <td>SPC</td>\n",
       "      <td>A</td>\n",
       "      <td>2013-01-01</td>\n",
       "      <td>CK</td>\n",
       "      <td>VAW_TOPIC_008</td>\n",
       "      <td>NUMPERRF</td>\n",
       "      <td>F</td>\n",
       "      <td>Y15T64</td>\n",
       "      <td>NaN</td>\n",
       "      <td>PHYS</td>\n",
       "      <td>...</td>\n",
       "      <td>NaN</td>\n",
       "      <td>NaN</td>\n",
       "      <td>NaN</td>\n",
       "      <td>NaN</td>\n",
       "      <td>16.5</td>\n",
       "      <td>PERCENT</td>\n",
       "      <td>NaN</td>\n",
       "      <td>NaN</td>\n",
       "      <td>FHSS</td>\n",
       "      <td>NaN</td>\n",
       "    </tr>\n",
       "    <tr>\n",
       "      <th>112</th>\n",
       "      <td>SPC</td>\n",
       "      <td>A</td>\n",
       "      <td>2013-01-01</td>\n",
       "      <td>CK</td>\n",
       "      <td>VAW_TOPIC_016</td>\n",
       "      <td>NUMPERRF</td>\n",
       "      <td>F</td>\n",
       "      <td>Y15T64</td>\n",
       "      <td>NaN</td>\n",
       "      <td>NaN</td>\n",
       "      <td>...</td>\n",
       "      <td>NaN</td>\n",
       "      <td>NEVER</td>\n",
       "      <td>NaN</td>\n",
       "      <td>NaN</td>\n",
       "      <td>28.3</td>\n",
       "      <td>PERCENT</td>\n",
       "      <td>NaN</td>\n",
       "      <td>NaN</td>\n",
       "      <td>FHSS</td>\n",
       "      <td>NaN</td>\n",
       "    </tr>\n",
       "    <tr>\n",
       "      <th>168</th>\n",
       "      <td>SPC</td>\n",
       "      <td>A</td>\n",
       "      <td>2011-01-01</td>\n",
       "      <td>FJ</td>\n",
       "      <td>VAW_TOPIC_006</td>\n",
       "      <td>NUMPERRF</td>\n",
       "      <td>F</td>\n",
       "      <td>Y15T64</td>\n",
       "      <td>EVPART</td>\n",
       "      <td>CONT_WHERE</td>\n",
       "      <td>...</td>\n",
       "      <td>NaN</td>\n",
       "      <td>NaN</td>\n",
       "      <td>NaN</td>\n",
       "      <td>NaN</td>\n",
       "      <td>98.0</td>\n",
       "      <td>PERCENT</td>\n",
       "      <td>NaN</td>\n",
       "      <td>O</td>\n",
       "      <td>Fiji VAW report 2010-2011</td>\n",
       "      <td>Women age 18-64 years.</td>\n",
       "    </tr>\n",
       "    <tr>\n",
       "      <th>224</th>\n",
       "      <td>SPC</td>\n",
       "      <td>A</td>\n",
       "      <td>2011-01-01</td>\n",
       "      <td>FJ</td>\n",
       "      <td>VAW_TOPIC_014</td>\n",
       "      <td>NUMPERRF</td>\n",
       "      <td>F</td>\n",
       "      <td>Y15T64</td>\n",
       "      <td>W4M</td>\n",
       "      <td>NaN</td>\n",
       "      <td>...</td>\n",
       "      <td>CONCENTRATE</td>\n",
       "      <td>NaN</td>\n",
       "      <td>NaN</td>\n",
       "      <td>NaN</td>\n",
       "      <td>28.7</td>\n",
       "      <td>PERCENT</td>\n",
       "      <td>NaN</td>\n",
       "      <td>NaN</td>\n",
       "      <td>Fiji VAW report 2010-2011</td>\n",
       "      <td>Women age 18-64 years.</td>\n",
       "    </tr>\n",
       "  </tbody>\n",
       "</table>\n",
       "<p>5 rows × 23 columns</p>\n",
       "</div>"
      ],
      "text/plain": [
       "    DATAFLOW FREQ TIME_PERIOD GEO_PICT          TOPIC INDICATOR SEX     AGE  \\\n",
       "0        SPC    A  2013-01-01       CK  VAW_TOPIC_001  NUMPERRF   F  Y15T64   \n",
       "56       SPC    A  2013-01-01       CK  VAW_TOPIC_008  NUMPERRF   F  Y15T64   \n",
       "112      SPC    A  2013-01-01       CK  VAW_TOPIC_016  NUMPERRF   F  Y15T64   \n",
       "168      SPC    A  2011-01-01       FJ  VAW_TOPIC_006  NUMPERRF   F  Y15T64   \n",
       "224      SPC    A  2011-01-01       FJ  VAW_TOPIC_014  NUMPERRF   F  Y15T64   \n",
       "\n",
       "    CONDITION VIOLENCE_TYPE  ...      OUTCOME RESPONSE HELP_REASON  \\\n",
       "0      EVPART     CONT_ECON  ...          NaN      NaN         NaN   \n",
       "56        NaN          PHYS  ...          NaN      NaN         NaN   \n",
       "112       NaN           NaN  ...          NaN    NEVER         NaN   \n",
       "168    EVPART    CONT_WHERE  ...          NaN      NaN         NaN   \n",
       "224       W4M           NaN  ...  CONCENTRATE      NaN         NaN   \n",
       "\n",
       "    HELP_PROVIDER OBS_VALUE  UNIT_MEASURE UNIT_MULT  OBS_STATUS  \\\n",
       "0             NaN      85.0       PERCENT       NaN         NaN   \n",
       "56            NaN      16.5       PERCENT       NaN         NaN   \n",
       "112           NaN      28.3       PERCENT       NaN         NaN   \n",
       "168           NaN      98.0       PERCENT       NaN           O   \n",
       "224           NaN      28.7       PERCENT       NaN         NaN   \n",
       "\n",
       "                   DATA_SOURCE             OBS_COMMENT  \n",
       "0                         FHSS                     NaN  \n",
       "56                        FHSS                     NaN  \n",
       "112                       FHSS                     NaN  \n",
       "168  Fiji VAW report 2010-2011  Women age 18-64 years.  \n",
       "224  Fiji VAW report 2010-2011  Women age 18-64 years.  \n",
       "\n",
       "[5 rows x 23 columns]"
      ]
     },
     "execution_count": 8,
     "metadata": {},
     "output_type": "execute_result"
    }
   ],
   "source": [
    "df.head(5)"
   ]
  },
  {
   "cell_type": "code",
   "execution_count": 9,
   "id": "481b7ffc-ccba-4f36-8ff4-00eddeefd495",
   "metadata": {},
   "outputs": [],
   "source": [
    "# Dataframe without missing values on OUTCOME\n",
    "\n",
    "df_train = df.dropna(subset=[\"OUTCOME\"]).copy()"
   ]
  },
  {
   "cell_type": "markdown",
   "id": "7d5c68e7-f4b9-414b-a9ea-8ad1a84a19e5",
   "metadata": {},
   "source": [
    "#### Some more preprocessing to discard columns with NA's"
   ]
  },
  {
   "cell_type": "code",
   "execution_count": 10,
   "id": "ed2cc460-9dfa-469c-bc5c-cb91e3054f0e",
   "metadata": {
    "tags": []
   },
   "outputs": [
    {
     "name": "stdout",
     "output_type": "stream",
     "text": [
      "Keep columns that have at least 24 non NA rows\n"
     ]
    }
   ],
   "source": [
    "# Filter features > 80% NA's\n",
    "\n",
    "print(\"Keep columns that have at least\", np.int16(df_train.shape[0]*.2), \"non NA rows\")\n",
    "df_train = df_train.dropna(axis=1, thresh=np.int16(df_train.shape[0]*.2)).copy()"
   ]
  },
  {
   "cell_type": "code",
   "execution_count": 11,
   "id": "cd173d6d-625a-4ad5-a33a-ab2a5dc3c05b",
   "metadata": {},
   "outputs": [],
   "source": [
    "# Omit columns that have the same value in all rows\n",
    "\n",
    "df_train = df_train[df_train.columns[df_train.nunique() > 1]]"
   ]
  },
  {
   "cell_type": "code",
   "execution_count": 12,
   "id": "b1ad2e27-7d12-413d-9dd6-d2a62e972066",
   "metadata": {},
   "outputs": [],
   "source": [
    "# Drop time period\n",
    "year_df_train = pd.concat([df[\"TIME_PERIOD\"], df[\"OUTCOME\"], df[\"OBS_VALUE\"]],axis=1, ignore_index=False)\n",
    "\n",
    "df_train = df_train.drop(columns=[\"TIME_PERIOD\"])"
   ]
  },
  {
   "cell_type": "code",
   "execution_count": 13,
   "id": "2aee31ad-3c5e-4c7e-8a67-c3029b3e9d97",
   "metadata": {},
   "outputs": [],
   "source": [
    "X, y = df_train.drop(columns=[\"OUTCOME\"]), df_train[\"OUTCOME\"]"
   ]
  },
  {
   "cell_type": "code",
   "execution_count": 14,
   "id": "cdc31127-d053-4e5b-a834-d8bd1e62fbb5",
   "metadata": {},
   "outputs": [],
   "source": [
    "# Condense categories to just the 5 most important\n",
    "\n",
    "#map_new_cat_s = {\"Health\" : ['HEALTHAFF', 'HEALTHSTA', 'HURT', 'INJ', 'LOSCONS', 'PAIN',\n",
    "#                            'PROBMEM', 'PROBUSUAL', 'PROBWALK'],\n",
    "#                        \"Children\" : ['AL1CHILDAGGR', 'AL1CHILDBEDW', 'AL1CHILDDSCH',\n",
    "#                                     'AL1CHILDNIGHT', 'AL1CHILDQUIET', 'AL1CHILDRSCH'],\n",
    "#                        \"Mental\" : ['EMODIST', 'SUICIDEATT', 'SUICIDETHI', 'LOSCONF'],\n",
    "#                        \"Work\" : ['WORK', 'CONCENTRATE', 'DISWORK'],\n",
    "#                        \"Reproduce\" : ['ABOR', 'MISC', 'STILB']}\n",
    "\n",
    "#s = pd.Series(map_new_cat_s).explode().sort_values()\n",
    "\n",
    "#y = y.map(dict(zip(s.values, s.index))).astype(\"category\")"
   ]
  },
  {
   "cell_type": "markdown",
   "id": "96d0690c-f750-47cc-9796-0bbc2f26eb68",
   "metadata": {},
   "source": [
    "#### Some plots"
   ]
  },
  {
   "cell_type": "code",
   "execution_count": 15,
   "id": "5e8f968e-6e7f-4de0-a177-d34e0cb14a51",
   "metadata": {},
   "outputs": [
    {
     "data": {
      "text/plain": [
       "'sns.catplot(x=\"CONDITION\", y=\"OBS_VALUE\", kind=\"box\", palette=\"pastel\", data=df_train, width=.6,height=6, aspect=1.5)     .set(title=\"% Help value with Condition\")\\nplt.show()'"
      ]
     },
     "execution_count": 15,
     "metadata": {},
     "output_type": "execute_result"
    }
   ],
   "source": [
    "\"\"\"sns.catplot(x=\"CONDITION\", y=\"OBS_VALUE\", kind=\"box\", palette=\"pastel\", data=df_train, width=.6,height=6, aspect=1.5) \\\n",
    "    .set(title=\"% Help value with Condition\")\n",
    "plt.show()\"\"\""
   ]
  },
  {
   "cell_type": "code",
   "execution_count": 16,
   "id": "e1d4087b-e6c5-484f-8c66-01bfd0627d5d",
   "metadata": {},
   "outputs": [
    {
     "data": {
      "image/png": "[encoded data removed]",
      "text/plain": [
       "<Figure size 1000x800 with 1 Axes>"
      ]
     },
     "metadata": {},
     "output_type": "display_data"
    }
   ],
   "source": [
    "ax = y.value_counts(normalize=False, ascending=True).plot.barh(figsize=(10,8), width=.65, align=\"center\",\n",
    "                                                             color=\"brown\")\n",
    "\n",
    "ax.set_xticks(np.arange(0,100, 10))\n",
    "ax.set_xlabel(\"Count\")\n",
    "ax.set_title(\"Violence Outcomes in absolute numbers\", fontsize=14)\n",
    "plt.show()"
   ]
  },
  {
   "cell_type": "code",
   "execution_count": 17,
   "id": "24d31793-385f-4c76-bfb1-6a564caf075f",
   "metadata": {},
   "outputs": [
    {
     "data": {
      "text/plain": [
       "'sns.catplot(x=\"ACTUALITY\", y=\"OBS_VALUE\", kind=\"violin\", inner=\"point\", bw=\"scott\", palette=\"pastel\", scale=\"count\", data=df_train, width=.6,height=6, aspect=1.5)     .set(title=\"% Help value with Actuality\")\\nplt.show()'"
      ]
     },
     "execution_count": 17,
     "metadata": {},
     "output_type": "execute_result"
    }
   ],
   "source": [
    "\"\"\"sns.catplot(x=\"ACTUALITY\", y=\"OBS_VALUE\", kind=\"violin\", inner=\"point\", bw=\"scott\", palette=\"pastel\", scale=\"count\", data=df_train, width=.6,height=6, aspect=1.5) \\\n",
    "    .set(title=\"% Help value with Actuality\")\n",
    "plt.show()\"\"\""
   ]
  },
  {
   "cell_type": "code",
   "execution_count": 18,
   "id": "89c0e148-5d81-48d7-8843-2aaeca62f725",
   "metadata": {},
   "outputs": [
    {
     "data": {
      "image/png": "[encoded data removed]",
      "text/plain": [
       "<Figure size 900x600 with 1 Axes>"
      ]
     },
     "metadata": {},
     "output_type": "display_data"
    }
   ],
   "source": [
    "sns.catplot(x=\"GEO_PICT\", data=df_train, palette=\"dark\", kind=\"count\", height=6, aspect=1.5) \\\n",
    "        .set(title=\"Count by Country\")\n",
    "plt.show()"
   ]
  },
  {
   "cell_type": "code",
   "execution_count": 19,
   "id": "73f19b28-c3bc-4ab6-8921-56d7f7b7ce61",
   "metadata": {},
   "outputs": [],
   "source": [
    "# Prepare dataframe to print year only\n",
    "\n",
    "year_df_train = year_df_train[year_df_train[\"OUTCOME\"].notna()]\n",
    "year_df_train[\"TIME_PERIOD\"] = year_df_train[\"TIME_PERIOD\"].dt.year.copy()"
   ]
  },
  {
   "cell_type": "code",
   "execution_count": 20,
   "id": "92fb2556-c4c0-4a41-b769-02af5dfa07ad",
   "metadata": {},
   "outputs": [
    {
     "data": {
      "image/png": "[encoded data removed]",
      "text/plain": [
       "<Figure size 900x600 with 1 Axes>"
      ]
     },
     "metadata": {},
     "output_type": "display_data"
    }
   ],
   "source": [
    "sns.catplot(x=\"TIME_PERIOD\", data=year_df_train, palette=\"deep\", kind=\"count\", height=6, aspect=1.5) \\\n",
    "        .set(title=\"VAW by Year\")\n",
    "plt.show()"
   ]
  },
  {
   "cell_type": "code",
   "execution_count": 21,
   "id": "5537afde-f023-4425-9a90-996a1569df67",
   "metadata": {},
   "outputs": [
    {
     "data": {
      "image/png": "[encoded data removed]",
      "text/plain": [
       "<Figure size 1190x700 with 1 Axes>"
      ]
     },
     "metadata": {},
     "output_type": "display_data"
    }
   ],
   "source": [
    "sns.set_style(\"whitegrid\")\n",
    "sns.catplot(x=\"TIME_PERIOD\", y=\"OBS_VALUE\", data=year_df_train, palette=\"muted\", kind=\"boxen\",\n",
    "            height=7, aspect=1.7, width=.65,linewidth=1.7, saturation=0.8) \\\n",
    "        .set(title=\"Help Values by Year\")\n",
    "plt.show()"
   ]
  },
  {
   "cell_type": "code",
   "execution_count": 22,
   "id": "7c8dd5ca-294b-4e04-894a-7cc82e1ff314",
   "metadata": {},
   "outputs": [
    {
     "data": {
      "text/plain": [
       "'sns.catplot(kind=\"bar\", x=\"HELP_REASON\", y=\"OBS_VALUE\", data=df, palette=\"Blues_d\", orient=\"v\", height=6.5, aspect=1.1,\\n          ci=\"sd\", capsize=.25 ,errwidth=1.5, errcolor=\"brown\")\\n\\nplt.title(\"Help value in conjuction with Help Reason\", fontdict={\\'size\\':14, \\'weight\\' : \\'bold\\'})\\nplt.show()'"
      ]
     },
     "execution_count": 22,
     "metadata": {},
     "output_type": "execute_result"
    }
   ],
   "source": [
    "\"\"\"sns.catplot(kind=\"bar\", x=\"HELP_REASON\", y=\"OBS_VALUE\", data=df, palette=\"Blues_d\", orient=\"v\", height=6.5, aspect=1.1,\n",
    "          ci=\"sd\", capsize=.25 ,errwidth=1.5, errcolor=\"brown\")\n",
    "\n",
    "plt.title(\"Help value in conjuction with Help Reason\", fontdict={'size':14, 'weight' : 'bold'})\n",
    "plt.show()\"\"\""
   ]
  },
  {
   "cell_type": "code",
   "execution_count": 23,
   "id": "c11b3491-dd16-488b-b1f1-1a45ce6a1b93",
   "metadata": {},
   "outputs": [
    {
     "data": {
      "text/plain": [
       "'sns.catplot(kind=\"bar\", x=\"RESPONSE\", y=\"OBS_VALUE\", data=df, palette=\"Blues_d\", orient=\"v\", height=8, aspect=1.1,\\n          ci=\"sd\", capsize=.25 ,errwidth=1.5, errcolor=\"brown\")\\n\\nplt.title(\"Help value in conjuction with Woman\\'s Response towards violence\", fontdict={\\'size\\':14})\\nplt.show()'"
      ]
     },
     "execution_count": 23,
     "metadata": {},
     "output_type": "execute_result"
    }
   ],
   "source": [
    "\"\"\"sns.catplot(kind=\"bar\", x=\"RESPONSE\", y=\"OBS_VALUE\", data=df, palette=\"Blues_d\", orient=\"v\", height=8, aspect=1.1,\n",
    "          ci=\"sd\", capsize=.25 ,errwidth=1.5, errcolor=\"brown\")\n",
    "\n",
    "plt.title(\"Help value in conjuction with Woman's Response towards violence\", fontdict={'size':14})\n",
    "plt.show()\"\"\""
   ]
  },
  {
   "cell_type": "code",
   "execution_count": 24,
   "id": "d8bb70f8-5a6c-46e9-b35b-b584287464f7",
   "metadata": {},
   "outputs": [],
   "source": [
    "X_train, X_test, y_train, y_test = train_test_split(X, y, random_state=132, stratify=y)"
   ]
  },
  {
   "cell_type": "code",
   "execution_count": 25,
   "id": "af1547f4-eea1-4b1c-9ae1-65d6ebb8168f",
   "metadata": {},
   "outputs": [],
   "source": [
    "# Impute values\n",
    "\n",
    "imputer_numeric = SimpleImputer(strategy=\"median\")\n",
    "\n",
    "X_train[\"OBS_VALUE\"] = imputer_numeric.fit_transform(X_train[\"OBS_VALUE\"].values.reshape(-1,1))\n",
    "X_test[\"OBS_VALUE\"] = imputer_numeric.transform(X_test[\"OBS_VALUE\"].values.reshape(-1,1))"
   ]
  },
  {
   "cell_type": "code",
   "execution_count": 26,
   "id": "ba846c2a-0e6c-4354-891a-56bad36668c0",
   "metadata": {},
   "outputs": [],
   "source": [
    "# Fill NA categorical features with \"NA\"\n",
    "\n",
    "imputer = SimpleImputer(strategy=\"constant\", fill_value=\"NA\")\n",
    "\n",
    "X_train = pd.DataFrame(imputer.fit_transform(X_train), columns=X.columns)\n",
    "X_test =  pd.DataFrame(imputer.transform(X_test), columns=X.columns)"
   ]
  },
  {
   "cell_type": "code",
   "execution_count": 27,
   "id": "0a41a965-0154-4bba-ba9d-b17db2528957",
   "metadata": {},
   "outputs": [],
   "source": [
    "# One-Hot encode and scale numeric values\n",
    "\n",
    "categorical_cols = X.select_dtypes(exclude=\"float\").columns\n",
    "numeric_cols = X.select_dtypes(include=\"float\").columns\n",
    "\n",
    "col_transformer_train = ColumnTransformer([('cat_cols', OneHotEncoder(handle_unknown=\"ignore\"), categorical_cols),\n",
    "                                ('num_cols', StandardScaler(), numeric_cols)])\n",
    "\n",
    "X_train = col_transformer_train.fit_transform(X_train).toarray()\n",
    "X_test = col_transformer_train.transform(X_test).toarray()"
   ]
  },
  {
   "cell_type": "code",
   "execution_count": 28,
   "id": "549ff758-e75a-4a04-84e1-5aa8dbc20bbc",
   "metadata": {},
   "outputs": [],
   "source": [
    "# Label encoder y\n",
    "\n",
    "le = LabelEncoder()\n",
    "\n",
    "le.fit(y)\n",
    "\n",
    "y_train = le.transform(y_train)\n",
    "y_test = le.transform(y_test)"
   ]
  },
  {
   "cell_type": "markdown",
   "id": "87d16bea-70c5-4ff3-963e-a8de8d639740",
   "metadata": {},
   "source": [
    "#### Run ML Algos"
   ]
  },
  {
   "cell_type": "markdown",
   "id": "6d606eb7-2eeb-4350-a4ea-08996d60e90e",
   "metadata": {},
   "source": [
    "##### Decision Trees"
   ]
  },
  {
   "cell_type": "code",
   "execution_count": 29,
   "id": "a180d584-91e9-4249-9296-5be746c3320f",
   "metadata": {},
   "outputs": [
    {
     "name": "stdout",
     "output_type": "stream",
     "text": [
      "Fitting 5 folds for each of 1152 candidates, totalling 5760 fits\n",
      "{'criterion': 'gini', 'max_depth': 3, 'max_features': 20, 'max_leaf_nodes': 8, 'min_impurity_decrease': 0.001, 'min_samples_leaf': 1}\n",
      "make_scorer(f1_score, pos_label=None, average=micro)\n",
      "Best cv score 1.0\n",
      "F1 Score on held out data 1.0\n"
     ]
    }
   ],
   "source": [
    "parameters = {'criterion':('gini', 'entropy'), 'max_features' : [20, 22, 24, 26], \"min_samples_leaf\":[1, 2],\n",
    "             'max_depth':[3, 4, 5, 6], 'max_leaf_nodes':[8, 9, 10, 11, 15, 20], \n",
    "              'min_impurity_decrease':[1e-3, 5e-2, 1e-2]}\n",
    "\n",
    "clf0 = GridSearchCV(DecisionTreeClassifier(random_state=132), parameters, scoring=\"f1_micro\", n_jobs=2, verbose=1)\n",
    "\n",
    "clf0.fit(X_train, y_train)\n",
    "\n",
    "print(clf0.best_params_)\n",
    "print(clf0.scorer_)\n",
    "print(\"Best cv score\", clf0.best_score_)\n",
    "print(\"F1 Score on held out data\", f1_score(y_test, clf0.predict(X_test), average=\"micro\"))\n",
    "\n",
    "#clf = DecisionTreeClassifier(criterion=\"gini\", random_state=132, max_features=23, min_samples_leaf=5, max_depth=6, \n",
    "#                                 max_leaf_nodes=15, min_impurity_decrease=.005)\n",
    "#clf.fit(X_train, y_train)\n",
    "#clf.score(X_test, y_test)"
   ]
  },
  {
   "cell_type": "code",
   "execution_count": 30,
   "id": "0dd45124-0a82-44e1-b9e6-82c8e2d21760",
   "metadata": {},
   "outputs": [
    {
     "name": "stdout",
     "output_type": "stream",
     "text": [
      "               precision    recall  f1-score   support\n",
      "\n",
      "AL1CHILDNIGHT      1.000     1.000     1.000         3\n",
      "  CONCENTRATE      1.000     1.000     1.000         9\n",
      "    HEALTHAFF      1.000     1.000     1.000         9\n",
      "      LOSCONS      1.000     1.000     1.000         3\n",
      "   SUICIDETHI      1.000     1.000     1.000         6\n",
      "\n",
      "     accuracy                          1.000        30\n",
      "    macro avg      1.000     1.000     1.000        30\n",
      " weighted avg      1.000     1.000     1.000        30\n",
      "\n"
     ]
    }
   ],
   "source": [
    "print(classification_report(y_test, clf0.predict(X_test), target_names=y.cat.categories, \n",
    "                            digits=3, zero_division=0))"
   ]
  },
  {
   "cell_type": "markdown",
   "id": "adb63cc5-fea0-46fc-a49c-b53ad3908715",
   "metadata": {},
   "source": [
    "##### Logistic Regression"
   ]
  },
  {
   "cell_type": "code",
   "execution_count": 31,
   "id": "b774c636-3d1f-4b10-840a-8a6ca918723a",
   "metadata": {},
   "outputs": [
    {
     "name": "stdout",
     "output_type": "stream",
     "text": [
      "F1 Score on held out data 1.0\n"
     ]
    }
   ],
   "source": [
    "clf1 = LogisticRegression(solver=\"liblinear\", random_state=132, max_iter=100, C=.75, penalty=\"l1\")\n",
    "\n",
    "clf1.fit(X_train, y_train)\n",
    "\n",
    "print(\"F1 Score on held out data\", f1_score(y_test, clf1.predict(X_test), average=\"micro\"))"
   ]
  },
  {
   "cell_type": "code",
   "execution_count": 32,
   "id": "3b605232-2f80-45d1-b65f-5bf281507b0a",
   "metadata": {},
   "outputs": [
    {
     "name": "stdout",
     "output_type": "stream",
     "text": [
      "               precision    recall  f1-score   support\n",
      "\n",
      "AL1CHILDNIGHT      1.000     1.000     1.000         3\n",
      "  CONCENTRATE      1.000     1.000     1.000         9\n",
      "    HEALTHAFF      1.000     1.000     1.000         9\n",
      "      LOSCONS      1.000     1.000     1.000         3\n",
      "   SUICIDETHI      1.000     1.000     1.000         6\n",
      "\n",
      "     accuracy                          1.000        30\n",
      "    macro avg      1.000     1.000     1.000        30\n",
      " weighted avg      1.000     1.000     1.000        30\n",
      "\n"
     ]
    }
   ],
   "source": [
    "print(classification_report(y_test, clf1.predict(X_test), target_names=y.cat.categories, \n",
    "                            digits=3, zero_division=0))"
   ]
  },
  {
   "cell_type": "markdown",
   "id": "98881931-d5f5-45b5-834f-ed8b03050928",
   "metadata": {},
   "source": [
    "##### Bagging"
   ]
  },
  {
   "cell_type": "code",
   "execution_count": 33,
   "id": "ade9742a-206c-44e2-8357-ec4b8124eedd",
   "metadata": {},
   "outputs": [
    {
     "name": "stdout",
     "output_type": "stream",
     "text": [
      "Fitting 5 folds for each of 160 candidates, totalling 800 fits\n"
     ]
    },
    {
     "name": "stderr",
     "output_type": "stream",
     "text": [
      "C:\\ProgramData\\Anaconda3\\lib\\site-packages\\sklearn\\model_selection\\_validation.py:372: FitFailedWarning: \n",
      "800 fits failed out of a total of 800.\n",
      "The score on these train-test partitions for these parameters will be set to nan.\n",
      "If these failures are not expected, you can try to debug them by setting error_score='raise'.\n",
      "\n",
      "Below are more details about the failures:\n",
      "--------------------------------------------------------------------------------\n",
      "800 fits failed with the following error:\n",
      "Traceback (most recent call last):\n",
      "  File \"C:\\ProgramData\\Anaconda3\\lib\\site-packages\\sklearn\\model_selection\\_validation.py\", line 680, in _fit_and_score\n",
      "    estimator.fit(X_train, y_train, **fit_params)\n",
      "  File \"C:\\ProgramData\\Anaconda3\\lib\\site-packages\\sklearn\\ensemble\\_bagging.py\", line 269, in fit\n",
      "    return self._fit(X, y, self.max_samples, sample_weight=sample_weight)\n",
      "  File \"C:\\ProgramData\\Anaconda3\\lib\\site-packages\\sklearn\\ensemble\\_bagging.py\", line 394, in _fit\n",
      "    all_results = Parallel(\n",
      "  File \"C:\\ProgramData\\Anaconda3\\lib\\site-packages\\joblib\\parallel.py\", line 1043, in __call__\n",
      "    if self.dispatch_one_batch(iterator):\n",
      "  File \"C:\\ProgramData\\Anaconda3\\lib\\site-packages\\joblib\\parallel.py\", line 861, in dispatch_one_batch\n",
      "    self._dispatch(tasks)\n",
      "  File \"C:\\ProgramData\\Anaconda3\\lib\\site-packages\\joblib\\parallel.py\", line 779, in _dispatch\n",
      "    job = self._backend.apply_async(batch, callback=cb)\n",
      "  File \"C:\\ProgramData\\Anaconda3\\lib\\site-packages\\joblib\\_parallel_backends.py\", line 208, in apply_async\n",
      "    result = ImmediateResult(func)\n",
      "  File \"C:\\ProgramData\\Anaconda3\\lib\\site-packages\\joblib\\_parallel_backends.py\", line 572, in __init__\n",
      "    self.results = batch()\n",
      "  File \"C:\\ProgramData\\Anaconda3\\lib\\site-packages\\joblib\\parallel.py\", line 262, in __call__\n",
      "    return [func(*args, **kwargs)\n",
      "  File \"C:\\ProgramData\\Anaconda3\\lib\\site-packages\\joblib\\parallel.py\", line 262, in <listcomp>\n",
      "    return [func(*args, **kwargs)\n",
      "  File \"C:\\ProgramData\\Anaconda3\\lib\\site-packages\\sklearn\\utils\\fixes.py\", line 216, in __call__\n",
      "    return self.function(*args, **kwargs)\n",
      "  File \"C:\\ProgramData\\Anaconda3\\lib\\site-packages\\sklearn\\ensemble\\_bagging.py\", line 123, in _parallel_build_estimators\n",
      "    estimator.fit(X[:, features], y, sample_weight=curr_sample_weight)\n",
      "  File \"C:\\ProgramData\\Anaconda3\\lib\\site-packages\\sklearn\\tree\\_classes.py\", line 937, in fit\n",
      "    super().fit(\n",
      "  File \"C:\\ProgramData\\Anaconda3\\lib\\site-packages\\sklearn\\tree\\_classes.py\", line 308, in fit\n",
      "    raise ValueError(\"max_features must be in (0, n_features]\")\n",
      "ValueError: max_features must be in (0, n_features]\n",
      "\n",
      "  warnings.warn(some_fits_failed_message, FitFailedWarning)\n",
      "C:\\ProgramData\\Anaconda3\\lib\\site-packages\\sklearn\\model_selection\\_search.py:969: UserWarning: One or more of the test scores are non-finite: [nan nan nan nan nan nan nan nan nan nan nan nan nan nan nan nan nan nan\n",
      " nan nan nan nan nan nan nan nan nan nan nan nan nan nan nan nan nan nan\n",
      " nan nan nan nan nan nan nan nan nan nan nan nan nan nan nan nan nan nan\n",
      " nan nan nan nan nan nan nan nan nan nan nan nan nan nan nan nan nan nan\n",
      " nan nan nan nan nan nan nan nan nan nan nan nan nan nan nan nan nan nan\n",
      " nan nan nan nan nan nan nan nan nan nan nan nan nan nan nan nan nan nan\n",
      " nan nan nan nan nan nan nan nan nan nan nan nan nan nan nan nan nan nan\n",
      " nan nan nan nan nan nan nan nan nan nan nan nan nan nan nan nan nan nan\n",
      " nan nan nan nan nan nan nan nan nan nan nan nan nan nan nan nan]\n",
      "  warnings.warn(\n"
     ]
    },
    {
     "ename": "ValueError",
     "evalue": "max_features must be in (0, n_features]",
     "output_type": "error",
     "traceback": [
      "\u001b[1;31m---------------------------------------------------------------------------\u001b[0m",
      "\u001b[1;31mValueError\u001b[0m                                Traceback (most recent call last)",
      "\u001b[1;32m~\\AppData\\Local\\Temp\\ipykernel_6208\\2116706658.py\u001b[0m in \u001b[0;36m<module>\u001b[1;34m\u001b[0m\n\u001b[0;32m      8\u001b[0m                    scoring=\"f1_micro\", n_jobs=2, verbose=1, cv=5)\n\u001b[0;32m      9\u001b[0m \u001b[1;33m\u001b[0m\u001b[0m\n\u001b[1;32m---> 10\u001b[1;33m \u001b[0mclf2\u001b[0m\u001b[1;33m.\u001b[0m\u001b[0mfit\u001b[0m\u001b[1;33m(\u001b[0m\u001b[0mX_train\u001b[0m\u001b[1;33m,\u001b[0m \u001b[0my_train\u001b[0m\u001b[1;33m)\u001b[0m\u001b[1;33m\u001b[0m\u001b[1;33m\u001b[0m\u001b[0m\n\u001b[0m\u001b[0;32m     11\u001b[0m \u001b[1;33m\u001b[0m\u001b[0m\n\u001b[0;32m     12\u001b[0m \u001b[0mprint\u001b[0m\u001b[1;33m(\u001b[0m\u001b[0mclf2\u001b[0m\u001b[1;33m.\u001b[0m\u001b[0mbest_params_\u001b[0m\u001b[1;33m)\u001b[0m\u001b[1;33m\u001b[0m\u001b[1;33m\u001b[0m\u001b[0m\n",
      "\u001b[1;32mC:\\ProgramData\\Anaconda3\\lib\\site-packages\\sklearn\\model_selection\\_search.py\u001b[0m in \u001b[0;36mfit\u001b[1;34m(self, X, y, groups, **fit_params)\u001b[0m\n\u001b[0;32m    924\u001b[0m             \u001b[0mrefit_start_time\u001b[0m \u001b[1;33m=\u001b[0m \u001b[0mtime\u001b[0m\u001b[1;33m.\u001b[0m\u001b[0mtime\u001b[0m\u001b[1;33m(\u001b[0m\u001b[1;33m)\u001b[0m\u001b[1;33m\u001b[0m\u001b[1;33m\u001b[0m\u001b[0m\n\u001b[0;32m    925\u001b[0m             \u001b[1;32mif\u001b[0m \u001b[0my\u001b[0m \u001b[1;32mis\u001b[0m \u001b[1;32mnot\u001b[0m \u001b[1;32mNone\u001b[0m\u001b[1;33m:\u001b[0m\u001b[1;33m\u001b[0m\u001b[1;33m\u001b[0m\u001b[0m\n\u001b[1;32m--> 926\u001b[1;33m                 \u001b[0mself\u001b[0m\u001b[1;33m.\u001b[0m\u001b[0mbest_estimator_\u001b[0m\u001b[1;33m.\u001b[0m\u001b[0mfit\u001b[0m\u001b[1;33m(\u001b[0m\u001b[0mX\u001b[0m\u001b[1;33m,\u001b[0m \u001b[0my\u001b[0m\u001b[1;33m,\u001b[0m \u001b[1;33m**\u001b[0m\u001b[0mfit_params\u001b[0m\u001b[1;33m)\u001b[0m\u001b[1;33m\u001b[0m\u001b[1;33m\u001b[0m\u001b[0m\n\u001b[0m\u001b[0;32m    927\u001b[0m             \u001b[1;32melse\u001b[0m\u001b[1;33m:\u001b[0m\u001b[1;33m\u001b[0m\u001b[1;33m\u001b[0m\u001b[0m\n\u001b[0;32m    928\u001b[0m                 \u001b[0mself\u001b[0m\u001b[1;33m.\u001b[0m\u001b[0mbest_estimator_\u001b[0m\u001b[1;33m.\u001b[0m\u001b[0mfit\u001b[0m\u001b[1;33m(\u001b[0m\u001b[0mX\u001b[0m\u001b[1;33m,\u001b[0m \u001b[1;33m**\u001b[0m\u001b[0mfit_params\u001b[0m\u001b[1;33m)\u001b[0m\u001b[1;33m\u001b[0m\u001b[1;33m\u001b[0m\u001b[0m\n",
      "\u001b[1;32mC:\\ProgramData\\Anaconda3\\lib\\site-packages\\sklearn\\ensemble\\_bagging.py\u001b[0m in \u001b[0;36mfit\u001b[1;34m(self, X, y, sample_weight)\u001b[0m\n\u001b[0;32m    267\u001b[0m             \u001b[0mmulti_output\u001b[0m\u001b[1;33m=\u001b[0m\u001b[1;32mTrue\u001b[0m\u001b[1;33m,\u001b[0m\u001b[1;33m\u001b[0m\u001b[1;33m\u001b[0m\u001b[0m\n\u001b[0;32m    268\u001b[0m         )\n\u001b[1;32m--> 269\u001b[1;33m         \u001b[1;32mreturn\u001b[0m \u001b[0mself\u001b[0m\u001b[1;33m.\u001b[0m\u001b[0m_fit\u001b[0m\u001b[1;33m(\u001b[0m\u001b[0mX\u001b[0m\u001b[1;33m,\u001b[0m \u001b[0my\u001b[0m\u001b[1;33m,\u001b[0m \u001b[0mself\u001b[0m\u001b[1;33m.\u001b[0m\u001b[0mmax_samples\u001b[0m\u001b[1;33m,\u001b[0m \u001b[0msample_weight\u001b[0m\u001b[1;33m=\u001b[0m\u001b[0msample_weight\u001b[0m\u001b[1;33m)\u001b[0m\u001b[1;33m\u001b[0m\u001b[1;33m\u001b[0m\u001b[0m\n\u001b[0m\u001b[0;32m    270\u001b[0m \u001b[1;33m\u001b[0m\u001b[0m\n\u001b[0;32m    271\u001b[0m     \u001b[1;32mdef\u001b[0m \u001b[0m_parallel_args\u001b[0m\u001b[1;33m(\u001b[0m\u001b[0mself\u001b[0m\u001b[1;33m)\u001b[0m\u001b[1;33m:\u001b[0m\u001b[1;33m\u001b[0m\u001b[1;33m\u001b[0m\u001b[0m\n",
      "\u001b[1;32mC:\\ProgramData\\Anaconda3\\lib\\site-packages\\sklearn\\ensemble\\_bagging.py\u001b[0m in \u001b[0;36m_fit\u001b[1;34m(self, X, y, max_samples, max_depth, sample_weight)\u001b[0m\n\u001b[0;32m    392\u001b[0m         \u001b[0mself\u001b[0m\u001b[1;33m.\u001b[0m\u001b[0m_seeds\u001b[0m \u001b[1;33m=\u001b[0m \u001b[0mseeds\u001b[0m\u001b[1;33m\u001b[0m\u001b[1;33m\u001b[0m\u001b[0m\n\u001b[0;32m    393\u001b[0m \u001b[1;33m\u001b[0m\u001b[0m\n\u001b[1;32m--> 394\u001b[1;33m         all_results = Parallel(\n\u001b[0m\u001b[0;32m    395\u001b[0m             \u001b[0mn_jobs\u001b[0m\u001b[1;33m=\u001b[0m\u001b[0mn_jobs\u001b[0m\u001b[1;33m,\u001b[0m \u001b[0mverbose\u001b[0m\u001b[1;33m=\u001b[0m\u001b[0mself\u001b[0m\u001b[1;33m.\u001b[0m\u001b[0mverbose\u001b[0m\u001b[1;33m,\u001b[0m \u001b[1;33m**\u001b[0m\u001b[0mself\u001b[0m\u001b[1;33m.\u001b[0m\u001b[0m_parallel_args\u001b[0m\u001b[1;33m(\u001b[0m\u001b[1;33m)\u001b[0m\u001b[1;33m\u001b[0m\u001b[1;33m\u001b[0m\u001b[0m\n\u001b[0;32m    396\u001b[0m         \u001b[1;33m)\u001b[0m\u001b[1;33m(\u001b[0m\u001b[1;33m\u001b[0m\u001b[1;33m\u001b[0m\u001b[0m\n",
      "\u001b[1;32mC:\\ProgramData\\Anaconda3\\lib\\site-packages\\joblib\\parallel.py\u001b[0m in \u001b[0;36m__call__\u001b[1;34m(self, iterable)\u001b[0m\n\u001b[0;32m   1041\u001b[0m             \u001b[1;31m# remaining jobs.\u001b[0m\u001b[1;33m\u001b[0m\u001b[1;33m\u001b[0m\u001b[0m\n\u001b[0;32m   1042\u001b[0m             \u001b[0mself\u001b[0m\u001b[1;33m.\u001b[0m\u001b[0m_iterating\u001b[0m \u001b[1;33m=\u001b[0m \u001b[1;32mFalse\u001b[0m\u001b[1;33m\u001b[0m\u001b[1;33m\u001b[0m\u001b[0m\n\u001b[1;32m-> 1043\u001b[1;33m             \u001b[1;32mif\u001b[0m \u001b[0mself\u001b[0m\u001b[1;33m.\u001b[0m\u001b[0mdispatch_one_batch\u001b[0m\u001b[1;33m(\u001b[0m\u001b[0miterator\u001b[0m\u001b[1;33m)\u001b[0m\u001b[1;33m:\u001b[0m\u001b[1;33m\u001b[0m\u001b[1;33m\u001b[0m\u001b[0m\n\u001b[0m\u001b[0;32m   1044\u001b[0m                 \u001b[0mself\u001b[0m\u001b[1;33m.\u001b[0m\u001b[0m_iterating\u001b[0m \u001b[1;33m=\u001b[0m \u001b[0mself\u001b[0m\u001b[1;33m.\u001b[0m\u001b[0m_original_iterator\u001b[0m \u001b[1;32mis\u001b[0m \u001b[1;32mnot\u001b[0m \u001b[1;32mNone\u001b[0m\u001b[1;33m\u001b[0m\u001b[1;33m\u001b[0m\u001b[0m\n\u001b[0;32m   1045\u001b[0m \u001b[1;33m\u001b[0m\u001b[0m\n",
      "\u001b[1;32mC:\\ProgramData\\Anaconda3\\lib\\site-packages\\joblib\\parallel.py\u001b[0m in \u001b[0;36mdispatch_one_batch\u001b[1;34m(self, iterator)\u001b[0m\n\u001b[0;32m    859\u001b[0m                 \u001b[1;32mreturn\u001b[0m \u001b[1;32mFalse\u001b[0m\u001b[1;33m\u001b[0m\u001b[1;33m\u001b[0m\u001b[0m\n\u001b[0;32m    860\u001b[0m             \u001b[1;32melse\u001b[0m\u001b[1;33m:\u001b[0m\u001b[1;33m\u001b[0m\u001b[1;33m\u001b[0m\u001b[0m\n\u001b[1;32m--> 861\u001b[1;33m                 \u001b[0mself\u001b[0m\u001b[1;33m.\u001b[0m\u001b[0m_dispatch\u001b[0m\u001b[1;33m(\u001b[0m\u001b[0mtasks\u001b[0m\u001b[1;33m)\u001b[0m\u001b[1;33m\u001b[0m\u001b[1;33m\u001b[0m\u001b[0m\n\u001b[0m\u001b[0;32m    862\u001b[0m                 \u001b[1;32mreturn\u001b[0m \u001b[1;32mTrue\u001b[0m\u001b[1;33m\u001b[0m\u001b[1;33m\u001b[0m\u001b[0m\n\u001b[0;32m    863\u001b[0m \u001b[1;33m\u001b[0m\u001b[0m\n",
      "\u001b[1;32mC:\\ProgramData\\Anaconda3\\lib\\site-packages\\joblib\\parallel.py\u001b[0m in \u001b[0;36m_dispatch\u001b[1;34m(self, batch)\u001b[0m\n\u001b[0;32m    777\u001b[0m         \u001b[1;32mwith\u001b[0m \u001b[0mself\u001b[0m\u001b[1;33m.\u001b[0m\u001b[0m_lock\u001b[0m\u001b[1;33m:\u001b[0m\u001b[1;33m\u001b[0m\u001b[1;33m\u001b[0m\u001b[0m\n\u001b[0;32m    778\u001b[0m             \u001b[0mjob_idx\u001b[0m \u001b[1;33m=\u001b[0m \u001b[0mlen\u001b[0m\u001b[1;33m(\u001b[0m\u001b[0mself\u001b[0m\u001b[1;33m.\u001b[0m\u001b[0m_jobs\u001b[0m\u001b[1;33m)\u001b[0m\u001b[1;33m\u001b[0m\u001b[1;33m\u001b[0m\u001b[0m\n\u001b[1;32m--> 779\u001b[1;33m             \u001b[0mjob\u001b[0m \u001b[1;33m=\u001b[0m \u001b[0mself\u001b[0m\u001b[1;33m.\u001b[0m\u001b[0m_backend\u001b[0m\u001b[1;33m.\u001b[0m\u001b[0mapply_async\u001b[0m\u001b[1;33m(\u001b[0m\u001b[0mbatch\u001b[0m\u001b[1;33m,\u001b[0m \u001b[0mcallback\u001b[0m\u001b[1;33m=\u001b[0m\u001b[0mcb\u001b[0m\u001b[1;33m)\u001b[0m\u001b[1;33m\u001b[0m\u001b[1;33m\u001b[0m\u001b[0m\n\u001b[0m\u001b[0;32m    780\u001b[0m             \u001b[1;31m# A job can complete so quickly than its callback is\u001b[0m\u001b[1;33m\u001b[0m\u001b[1;33m\u001b[0m\u001b[0m\n\u001b[0;32m    781\u001b[0m             \u001b[1;31m# called before we get here, causing self._jobs to\u001b[0m\u001b[1;33m\u001b[0m\u001b[1;33m\u001b[0m\u001b[0m\n",
      "\u001b[1;32mC:\\ProgramData\\Anaconda3\\lib\\site-packages\\joblib\\_parallel_backends.py\u001b[0m in \u001b[0;36mapply_async\u001b[1;34m(self, func, callback)\u001b[0m\n\u001b[0;32m    206\u001b[0m     \u001b[1;32mdef\u001b[0m \u001b[0mapply_async\u001b[0m\u001b[1;33m(\u001b[0m\u001b[0mself\u001b[0m\u001b[1;33m,\u001b[0m \u001b[0mfunc\u001b[0m\u001b[1;33m,\u001b[0m \u001b[0mcallback\u001b[0m\u001b[1;33m=\u001b[0m\u001b[1;32mNone\u001b[0m\u001b[1;33m)\u001b[0m\u001b[1;33m:\u001b[0m\u001b[1;33m\u001b[0m\u001b[1;33m\u001b[0m\u001b[0m\n\u001b[0;32m    207\u001b[0m         \u001b[1;34m\"\"\"Schedule a func to be run\"\"\"\u001b[0m\u001b[1;33m\u001b[0m\u001b[1;33m\u001b[0m\u001b[0m\n\u001b[1;32m--> 208\u001b[1;33m         \u001b[0mresult\u001b[0m \u001b[1;33m=\u001b[0m \u001b[0mImmediateResult\u001b[0m\u001b[1;33m(\u001b[0m\u001b[0mfunc\u001b[0m\u001b[1;33m)\u001b[0m\u001b[1;33m\u001b[0m\u001b[1;33m\u001b[0m\u001b[0m\n\u001b[0m\u001b[0;32m    209\u001b[0m         \u001b[1;32mif\u001b[0m \u001b[0mcallback\u001b[0m\u001b[1;33m:\u001b[0m\u001b[1;33m\u001b[0m\u001b[1;33m\u001b[0m\u001b[0m\n\u001b[0;32m    210\u001b[0m             \u001b[0mcallback\u001b[0m\u001b[1;33m(\u001b[0m\u001b[0mresult\u001b[0m\u001b[1;33m)\u001b[0m\u001b[1;33m\u001b[0m\u001b[1;33m\u001b[0m\u001b[0m\n",
      "\u001b[1;32mC:\\ProgramData\\Anaconda3\\lib\\site-packages\\joblib\\_parallel_backends.py\u001b[0m in \u001b[0;36m__init__\u001b[1;34m(self, batch)\u001b[0m\n\u001b[0;32m    570\u001b[0m         \u001b[1;31m# Don't delay the application, to avoid keeping the input\u001b[0m\u001b[1;33m\u001b[0m\u001b[1;33m\u001b[0m\u001b[0m\n\u001b[0;32m    571\u001b[0m         \u001b[1;31m# arguments in memory\u001b[0m\u001b[1;33m\u001b[0m\u001b[1;33m\u001b[0m\u001b[0m\n\u001b[1;32m--> 572\u001b[1;33m         \u001b[0mself\u001b[0m\u001b[1;33m.\u001b[0m\u001b[0mresults\u001b[0m \u001b[1;33m=\u001b[0m \u001b[0mbatch\u001b[0m\u001b[1;33m(\u001b[0m\u001b[1;33m)\u001b[0m\u001b[1;33m\u001b[0m\u001b[1;33m\u001b[0m\u001b[0m\n\u001b[0m\u001b[0;32m    573\u001b[0m \u001b[1;33m\u001b[0m\u001b[0m\n\u001b[0;32m    574\u001b[0m     \u001b[1;32mdef\u001b[0m \u001b[0mget\u001b[0m\u001b[1;33m(\u001b[0m\u001b[0mself\u001b[0m\u001b[1;33m)\u001b[0m\u001b[1;33m:\u001b[0m\u001b[1;33m\u001b[0m\u001b[1;33m\u001b[0m\u001b[0m\n",
      "\u001b[1;32mC:\\ProgramData\\Anaconda3\\lib\\site-packages\\joblib\\parallel.py\u001b[0m in \u001b[0;36m__call__\u001b[1;34m(self)\u001b[0m\n\u001b[0;32m    260\u001b[0m         \u001b[1;31m# change the default number of processes to -1\u001b[0m\u001b[1;33m\u001b[0m\u001b[1;33m\u001b[0m\u001b[0m\n\u001b[0;32m    261\u001b[0m         \u001b[1;32mwith\u001b[0m \u001b[0mparallel_backend\u001b[0m\u001b[1;33m(\u001b[0m\u001b[0mself\u001b[0m\u001b[1;33m.\u001b[0m\u001b[0m_backend\u001b[0m\u001b[1;33m,\u001b[0m \u001b[0mn_jobs\u001b[0m\u001b[1;33m=\u001b[0m\u001b[0mself\u001b[0m\u001b[1;33m.\u001b[0m\u001b[0m_n_jobs\u001b[0m\u001b[1;33m)\u001b[0m\u001b[1;33m:\u001b[0m\u001b[1;33m\u001b[0m\u001b[1;33m\u001b[0m\u001b[0m\n\u001b[1;32m--> 262\u001b[1;33m             return [func(*args, **kwargs)\n\u001b[0m\u001b[0;32m    263\u001b[0m                     for func, args, kwargs in self.items]\n\u001b[0;32m    264\u001b[0m \u001b[1;33m\u001b[0m\u001b[0m\n",
      "\u001b[1;32mC:\\ProgramData\\Anaconda3\\lib\\site-packages\\joblib\\parallel.py\u001b[0m in \u001b[0;36m<listcomp>\u001b[1;34m(.0)\u001b[0m\n\u001b[0;32m    260\u001b[0m         \u001b[1;31m# change the default number of processes to -1\u001b[0m\u001b[1;33m\u001b[0m\u001b[1;33m\u001b[0m\u001b[0m\n\u001b[0;32m    261\u001b[0m         \u001b[1;32mwith\u001b[0m \u001b[0mparallel_backend\u001b[0m\u001b[1;33m(\u001b[0m\u001b[0mself\u001b[0m\u001b[1;33m.\u001b[0m\u001b[0m_backend\u001b[0m\u001b[1;33m,\u001b[0m \u001b[0mn_jobs\u001b[0m\u001b[1;33m=\u001b[0m\u001b[0mself\u001b[0m\u001b[1;33m.\u001b[0m\u001b[0m_n_jobs\u001b[0m\u001b[1;33m)\u001b[0m\u001b[1;33m:\u001b[0m\u001b[1;33m\u001b[0m\u001b[1;33m\u001b[0m\u001b[0m\n\u001b[1;32m--> 262\u001b[1;33m             return [func(*args, **kwargs)\n\u001b[0m\u001b[0;32m    263\u001b[0m                     for func, args, kwargs in self.items]\n\u001b[0;32m    264\u001b[0m \u001b[1;33m\u001b[0m\u001b[0m\n",
      "\u001b[1;32mC:\\ProgramData\\Anaconda3\\lib\\site-packages\\sklearn\\utils\\fixes.py\u001b[0m in \u001b[0;36m__call__\u001b[1;34m(self, *args, **kwargs)\u001b[0m\n\u001b[0;32m    214\u001b[0m     \u001b[1;32mdef\u001b[0m \u001b[0m__call__\u001b[0m\u001b[1;33m(\u001b[0m\u001b[0mself\u001b[0m\u001b[1;33m,\u001b[0m \u001b[1;33m*\u001b[0m\u001b[0margs\u001b[0m\u001b[1;33m,\u001b[0m \u001b[1;33m**\u001b[0m\u001b[0mkwargs\u001b[0m\u001b[1;33m)\u001b[0m\u001b[1;33m:\u001b[0m\u001b[1;33m\u001b[0m\u001b[1;33m\u001b[0m\u001b[0m\n\u001b[0;32m    215\u001b[0m         \u001b[1;32mwith\u001b[0m \u001b[0mconfig_context\u001b[0m\u001b[1;33m(\u001b[0m\u001b[1;33m**\u001b[0m\u001b[0mself\u001b[0m\u001b[1;33m.\u001b[0m\u001b[0mconfig\u001b[0m\u001b[1;33m)\u001b[0m\u001b[1;33m:\u001b[0m\u001b[1;33m\u001b[0m\u001b[1;33m\u001b[0m\u001b[0m\n\u001b[1;32m--> 216\u001b[1;33m             \u001b[1;32mreturn\u001b[0m \u001b[0mself\u001b[0m\u001b[1;33m.\u001b[0m\u001b[0mfunction\u001b[0m\u001b[1;33m(\u001b[0m\u001b[1;33m*\u001b[0m\u001b[0margs\u001b[0m\u001b[1;33m,\u001b[0m \u001b[1;33m**\u001b[0m\u001b[0mkwargs\u001b[0m\u001b[1;33m)\u001b[0m\u001b[1;33m\u001b[0m\u001b[1;33m\u001b[0m\u001b[0m\n\u001b[0m\u001b[0;32m    217\u001b[0m \u001b[1;33m\u001b[0m\u001b[0m\n\u001b[0;32m    218\u001b[0m \u001b[1;33m\u001b[0m\u001b[0m\n",
      "\u001b[1;32mC:\\ProgramData\\Anaconda3\\lib\\site-packages\\sklearn\\ensemble\\_bagging.py\u001b[0m in \u001b[0;36m_parallel_build_estimators\u001b[1;34m(n_estimators, ensemble, X, y, sample_weight, seeds, total_n_estimators, verbose)\u001b[0m\n\u001b[0;32m    121\u001b[0m                 \u001b[0mcurr_sample_weight\u001b[0m\u001b[1;33m[\u001b[0m\u001b[0mnot_indices_mask\u001b[0m\u001b[1;33m]\u001b[0m \u001b[1;33m=\u001b[0m \u001b[1;36m0\u001b[0m\u001b[1;33m\u001b[0m\u001b[1;33m\u001b[0m\u001b[0m\n\u001b[0;32m    122\u001b[0m \u001b[1;33m\u001b[0m\u001b[0m\n\u001b[1;32m--> 123\u001b[1;33m             \u001b[0mestimator\u001b[0m\u001b[1;33m.\u001b[0m\u001b[0mfit\u001b[0m\u001b[1;33m(\u001b[0m\u001b[0mX\u001b[0m\u001b[1;33m[\u001b[0m\u001b[1;33m:\u001b[0m\u001b[1;33m,\u001b[0m \u001b[0mfeatures\u001b[0m\u001b[1;33m]\u001b[0m\u001b[1;33m,\u001b[0m \u001b[0my\u001b[0m\u001b[1;33m,\u001b[0m \u001b[0msample_weight\u001b[0m\u001b[1;33m=\u001b[0m\u001b[0mcurr_sample_weight\u001b[0m\u001b[1;33m)\u001b[0m\u001b[1;33m\u001b[0m\u001b[1;33m\u001b[0m\u001b[0m\n\u001b[0m\u001b[0;32m    124\u001b[0m \u001b[1;33m\u001b[0m\u001b[0m\n\u001b[0;32m    125\u001b[0m         \u001b[1;32melse\u001b[0m\u001b[1;33m:\u001b[0m\u001b[1;33m\u001b[0m\u001b[1;33m\u001b[0m\u001b[0m\n",
      "\u001b[1;32mC:\\ProgramData\\Anaconda3\\lib\\site-packages\\sklearn\\tree\\_classes.py\u001b[0m in \u001b[0;36mfit\u001b[1;34m(self, X, y, sample_weight, check_input, X_idx_sorted)\u001b[0m\n\u001b[0;32m    935\u001b[0m         \"\"\"\n\u001b[0;32m    936\u001b[0m \u001b[1;33m\u001b[0m\u001b[0m\n\u001b[1;32m--> 937\u001b[1;33m         super().fit(\n\u001b[0m\u001b[0;32m    938\u001b[0m             \u001b[0mX\u001b[0m\u001b[1;33m,\u001b[0m\u001b[1;33m\u001b[0m\u001b[1;33m\u001b[0m\u001b[0m\n\u001b[0;32m    939\u001b[0m             \u001b[0my\u001b[0m\u001b[1;33m,\u001b[0m\u001b[1;33m\u001b[0m\u001b[1;33m\u001b[0m\u001b[0m\n",
      "\u001b[1;32mC:\\ProgramData\\Anaconda3\\lib\\site-packages\\sklearn\\tree\\_classes.py\u001b[0m in \u001b[0;36mfit\u001b[1;34m(self, X, y, sample_weight, check_input, X_idx_sorted)\u001b[0m\n\u001b[0;32m    306\u001b[0m             \u001b[1;32mraise\u001b[0m \u001b[0mValueError\u001b[0m\u001b[1;33m(\u001b[0m\u001b[1;34m\"max_depth must be greater than zero. \"\u001b[0m\u001b[1;33m)\u001b[0m\u001b[1;33m\u001b[0m\u001b[1;33m\u001b[0m\u001b[0m\n\u001b[0;32m    307\u001b[0m         \u001b[1;32mif\u001b[0m \u001b[1;32mnot\u001b[0m \u001b[1;33m(\u001b[0m\u001b[1;36m0\u001b[0m \u001b[1;33m<\u001b[0m \u001b[0mmax_features\u001b[0m \u001b[1;33m<=\u001b[0m \u001b[0mself\u001b[0m\u001b[1;33m.\u001b[0m\u001b[0mn_features_in_\u001b[0m\u001b[1;33m)\u001b[0m\u001b[1;33m:\u001b[0m\u001b[1;33m\u001b[0m\u001b[1;33m\u001b[0m\u001b[0m\n\u001b[1;32m--> 308\u001b[1;33m             \u001b[1;32mraise\u001b[0m \u001b[0mValueError\u001b[0m\u001b[1;33m(\u001b[0m\u001b[1;34m\"max_features must be in (0, n_features]\"\u001b[0m\u001b[1;33m)\u001b[0m\u001b[1;33m\u001b[0m\u001b[1;33m\u001b[0m\u001b[0m\n\u001b[0m\u001b[0;32m    309\u001b[0m         \u001b[1;32mif\u001b[0m \u001b[1;32mnot\u001b[0m \u001b[0misinstance\u001b[0m\u001b[1;33m(\u001b[0m\u001b[0mmax_leaf_nodes\u001b[0m\u001b[1;33m,\u001b[0m \u001b[0mnumbers\u001b[0m\u001b[1;33m.\u001b[0m\u001b[0mIntegral\u001b[0m\u001b[1;33m)\u001b[0m\u001b[1;33m:\u001b[0m\u001b[1;33m\u001b[0m\u001b[1;33m\u001b[0m\u001b[0m\n\u001b[0;32m    310\u001b[0m             raise ValueError(\n",
      "\u001b[1;31mValueError\u001b[0m: max_features must be in (0, n_features]"
     ]
    }
   ],
   "source": [
    "base = DecisionTreeClassifier(criterion=\"gini\", random_state=132, max_features=23, min_samples_leaf=5, max_depth=6, \n",
    "                                 max_leaf_nodes=15, min_impurity_decrease=.005)\n",
    "\n",
    "parameters = {'n_estimators':[25, 30, 35, 40, 50], 'max_samples' : [.60, .65, .7, .75, .8, .85, .9, 1],\n",
    "              'max_features' :[.55, .65, .75, .85]}\n",
    "\n",
    "clf2 = GridSearchCV(BaggingClassifier(base_estimator=base, random_state=132), parameters, \n",
    "                   scoring=\"f1_micro\", n_jobs=2, verbose=1, cv=5)\n",
    "\n",
    "clf2.fit(X_train, y_train)\n",
    "\n",
    "print(clf2.best_params_)\n",
    "print(clf2.scorer_)\n",
    "print(\"Best cv score\", clf2.best_score_)\n",
    "print(\"F1 Score on held out data\", f1_score(y_test, clf2.predict(X_test), average=\"micro\"))"
   ]
  },
  {
   "cell_type": "code",
   "execution_count": null,
   "id": "00786ef6-a05c-4f2c-8d15-7a1e3cac9e82",
   "metadata": {},
   "outputs": [],
   "source": [
    "print(classification_report(y_test, clf2.predict(X_test), target_names=y.cat.categories, \n",
    "                            digits=3, zero_division=0))"
   ]
  },
  {
   "cell_type": "markdown",
   "id": "260d0a24-4b84-48c3-aaed-86cc3a19363b",
   "metadata": {},
   "source": [
    "##### Random Forest"
   ]
  },
  {
   "cell_type": "code",
   "execution_count": null,
   "id": "cdfbc24d-36c8-4402-8161-662eeaa49c0b",
   "metadata": {},
   "outputs": [],
   "source": [
    "parameters = {'n_estimators':[90, 100, 110],'max_depth' : [9,10,11], \n",
    "              'max_leaf_nodes':[5, 10], 'max_features':[\"log2\", 42],\n",
    "              'max_samples':[.85, .9]}\n",
    "\n",
    "clf3 = GridSearchCV(RandomForestClassifier(criterion=\"gini\", random_state=132), parameters, \n",
    "                   scoring=\"f1_micro\", n_jobs=2, verbose=1, cv=10)\n",
    "\n",
    "clf3.fit(X_train, y_train)\n",
    "\n",
    "print(clf3.best_params_)\n",
    "print(clf3.scorer_)\n",
    "print(\"Best cv score\", clf3.best_score_)\n",
    "print(\"F1 Score on held out data\", f1_score(y_test, clf3.predict(X_test), average=\"micro\"))"
   ]
  },
  {
   "cell_type": "code",
   "execution_count": null,
   "id": "c0fd1e38-959b-452d-93b3-f8a0e25b5132",
   "metadata": {},
   "outputs": [],
   "source": [
    "print(classification_report(y_test, clf3.predict(X_test), target_names=y.cat.categories, \n",
    "                            digits=3, zero_division=0))"
   ]
  },
  {
   "cell_type": "markdown",
   "id": "a29ad34e-3b5c-4e8c-bfe4-f0d0206a8877",
   "metadata": {},
   "source": [
    "##### KNN"
   ]
  },
  {
   "cell_type": "code",
   "execution_count": null,
   "id": "ad4d1a00-a044-4162-8379-cafd4e1ac80b",
   "metadata": {},
   "outputs": [],
   "source": [
    "parameters = {'n_neighbors':[40, 50, 60, 100, 130],'weights' : ('uniform', 'distance'), \n",
    "              'p':[1, 2], 'leaf_size':[10, 15, 20, 25, 30]}\n",
    "\n",
    "clf4 = GridSearchCV(KNeighborsClassifier(algorithm=\"kd_tree\"), parameters, \n",
    "                   scoring=\"f1_micro\", n_jobs=2, verbose=1, cv=5)\n",
    "\n",
    "clf4.fit(X_train, y_train)\n",
    "\n",
    "print(clf4.best_params_)\n",
    "print(clf4.scorer_)\n",
    "print(\"Best cv score\", clf4.best_score_)\n",
    "print(\"F1 Score on held out data\", f1_score(y_test, clf4.predict(X_test), average=\"micro\"))"
   ]
  },
  {
   "cell_type": "code",
   "execution_count": null,
   "id": "490d1c47-41f3-4934-8dce-300e2d64a9e1",
   "metadata": {},
   "outputs": [],
   "source": [
    "print(classification_report(y_test, clf4.predict(X_test), target_names=y.cat.categories, \n",
    "                            digits=3, zero_division=0))"
   ]
  },
  {
   "cell_type": "markdown",
   "id": "2eda56ff-d886-4662-b476-8adbf400040b",
   "metadata": {},
   "source": [
    "##### SVM"
   ]
  },
  {
   "cell_type": "code",
   "execution_count": null,
   "id": "95d87838-300e-4cd8-a68f-901e22bc29a0",
   "metadata": {},
   "outputs": [],
   "source": [
    "parameters = {'kernel':('linear', 'sigmoid', 'poly'), 'C':[.1, .5, 1, 2, 15], \"tol\":[1e-2, 2e-3, 1e-3, 1e-4],\n",
    "             'degree':[1,2,3]}\n",
    "\n",
    "clf5 = GridSearchCV(SVC(random_state=132), parameters, verbose=1, n_jobs=2, cv=5, scoring=\"f1_micro\")\n",
    "\n",
    "clf5.fit(X_train, y_train)\n",
    "\n",
    "print(clf5.best_params_)\n",
    "print(clf5.scorer_)\n",
    "print(\"Best cv score\", clf5.best_score_)\n",
    "print(\"F1 Score on held out data\", f1_score(y_test, clf5.predict(X_test), average=\"micro\"))"
   ]
  },
  {
   "cell_type": "code",
   "execution_count": null,
   "id": "baf99350-b78b-465b-bf88-c012a8b35560",
   "metadata": {},
   "outputs": [],
   "source": [
    "print(classification_report(y_test, clf5.predict(X_test), target_names=y.cat.categories, \n",
    "                            digits=3, zero_division=0))"
   ]
  },
  {
   "cell_type": "markdown",
   "id": "20a41cff-66c4-4044-8fc9-84ab4c6d1180",
   "metadata": {},
   "source": [
    "##### Neural Networks"
   ]
  },
  {
   "cell_type": "code",
   "execution_count": null,
   "id": "d7414de1-1d2c-4314-b6c2-42b1dbbeed02",
   "metadata": {},
   "outputs": [],
   "source": [
    "parameters = {'activation':('logistic', 'tanh'), 'hidden_layer_sizes':((32,64),(64,64)),\n",
    "             'learning_rate_init':[1e-5, 1e-4, 1e-3]}\n",
    "\n",
    "clf6 = MLPClassifier(hidden_layer_sizes=(256,256), activation=\"logistic\", learning_rate_init=3e-3,\n",
    "                    max_iter=2000, random_state=42, tol=0.01)\n",
    "\n",
    "clf6.fit(X_train, y_train)\n",
    "\n",
    "print(\"F1 Score on held out data\", f1_score(y_test, clf6.predict(X_test), average=\"micro\"))"
   ]
  },
  {
   "cell_type": "code",
   "execution_count": null,
   "id": "342e5f49-5d09-49da-8982-5f69c2a0b21f",
   "metadata": {},
   "outputs": [],
   "source": [
    "print(classification_report(y_test, clf6.predict(X_test), target_names=y.cat.categories, \n",
    "                            digits=3, zero_division=0))"
   ]
  },
  {
   "cell_type": "markdown",
   "id": "473424e0-ddf9-446c-b5b5-113d056aa9cf",
   "metadata": {},
   "source": [
    "##### Gradient Boosting"
   ]
  },
  {
   "cell_type": "code",
   "execution_count": null,
   "id": "4b8ce737-7597-49c3-8b3b-94c6d81a353c",
   "metadata": {},
   "outputs": [],
   "source": [
    "clf7 = GradientBoostingClassifier(learning_rate=0.05, n_estimators=100,\n",
    "                                subsample=.9, min_samples_split=10, \n",
    "                                 random_state=142, max_features=30,\n",
    "                                max_depth=30)\n",
    "\n",
    "clf7.fit(X_train, y_train)\n",
    "print(\"F1 Score on held out data\", f1_score(y_test, clf7.predict(X_test), average=\"micro\"))"
   ]
  },
  {
   "cell_type": "code",
   "execution_count": null,
   "id": "d131c94c-395f-4766-9b0f-8d16753649b7",
   "metadata": {},
   "outputs": [],
   "source": [
    "print(classification_report(y_test, clf7.predict(X_test), target_names=y.cat.categories, \n",
    "                            digits=3, zero_division=0))"
   ]
  },
  {
   "cell_type": "markdown",
   "id": "ac2cec8a-202a-4a32-a6ba-d8187b17e978",
   "metadata": {},
   "source": [
    "##### LDA"
   ]
  },
  {
   "cell_type": "code",
   "execution_count": null,
   "id": "a16f60c9-84f7-4da4-935b-aa70b12b7ab1",
   "metadata": {},
   "outputs": [],
   "source": [
    "parameters = {'solver':('lsqr', 'svd'), 'tol':[1e-5, 1e-4, 1e-3]}\n",
    "\n",
    "clf8 = GridSearchCV(LinearDiscriminantAnalysis(), parameters, verbose=1, n_jobs=2, cv=5, scoring=\"f1_micro\")\n",
    "\n",
    "clf8.fit(X_train, y_train)\n",
    "\n",
    "print(clf8.best_params_)\n",
    "print(clf8.scorer_)\n",
    "print(\"Best cv score\", clf8.best_score_)\n",
    "print(\"F1 Score on held out data\", f1_score(y_test, clf8.predict(X_test), average=\"micro\"))"
   ]
  },
  {
   "cell_type": "code",
   "execution_count": null,
   "id": "4423963b-35da-46d2-bf22-d79e04e539f2",
   "metadata": {},
   "outputs": [],
   "source": [
    "print(classification_report(y_test, clf8.predict(X_test), target_names=y.cat.categories, \n",
    "                            digits=3, zero_division=0))"
   ]
  },
  {
   "cell_type": "markdown",
   "id": "3711a7a8-020d-491d-9b33-0e5d43b03de9",
   "metadata": {},
   "source": [
    "##### NuSVC"
   ]
  },
  {
   "cell_type": "code",
   "execution_count": null,
   "id": "d0c57603-941a-4aff-b4be-4f83e35c7aac",
   "metadata": {},
   "outputs": [],
   "source": [
    "parameters = {'nu' : [2e-3, 1e-3, 3e-3, 1e-1, .15], 'kernel':('poly','rbf','linear'),\n",
    "             'tol':[1e-4, 1e-3, 1e-2]}\n",
    "\n",
    "clf9 = GridSearchCV(NuSVC(random_state=142), parameters, verbose=1, n_jobs=2, cv=5, scoring=\"f1_micro\")\n",
    "\n",
    "clf9.fit(X_train, y_train)\n",
    "\n",
    "print(clf9.best_params_)\n",
    "print(clf9.scorer_)\n",
    "print(\"Best cv score\", clf9.best_score_)\n",
    "print(\"F1 Score on held out data\", f1_score(y_test, clf9.predict(X_test), average=\"micro\"))"
   ]
  },
  {
   "cell_type": "code",
   "execution_count": null,
   "id": "e5d5fa12-0c3e-4440-907a-70325cd7b178",
   "metadata": {},
   "outputs": [],
   "source": [
    "print(classification_report(y_test, clf9.predict(X_test), target_names=y.cat.categories, \n",
    "                            digits=3, zero_division=0))"
   ]
  },
  {
   "cell_type": "markdown",
   "id": "ce57b5ca-4d30-485f-8241-0a6e08bb638c",
   "metadata": {},
   "source": [
    "##### XGBoost"
   ]
  },
  {
   "cell_type": "code",
   "execution_count": null,
   "id": "920b1f8f-38e8-40bd-a93f-e41c389c390c",
   "metadata": {},
   "outputs": [],
   "source": [
    "\"\"\"xgboost_params = {'objective':'binary:logistic', 'n_estimators': 50, 'max_depth': 2, 'learning_rate': 1e-2,\n",
    "                 'verbosity':0, 'booster':'gbtree', 'gamma': 1.25, 'random_state':142, 'eval_metric':'mlogloss',\n",
    "                 'use_label_encoder' : (False)}\n",
    "\n",
    "clf10 = MultiOutputClassifier(XGBClassifier(**xgboost_params), n_jobs=2)\n",
    "\n",
    "clf10.fit(X_train, y_train[:, np.newaxis])\n",
    "\n",
    "print(\"F1 Score on held out data\", f1_score(y_test, clf10.predict(X_test), average=\"micro\"))\"\"\""
   ]
  },
  {
   "cell_type": "code",
   "execution_count": null,
   "id": "8bd290f5-06a7-4351-b776-8c4f160dc1a4",
   "metadata": {},
   "outputs": [],
   "source": [
    "print(classification_report(y_test, clf10.predict(X_test), target_names=y.cat.categories, \n",
    "                            digits=3, zero_division=0))"
   ]
  },
  {
   "cell_type": "markdown",
   "id": "fc848b97-a210-4ae6-be88-6a3e37052e9c",
   "metadata": {},
   "source": [
    "##### AdaBoost"
   ]
  },
  {
   "cell_type": "code",
   "execution_count": null,
   "id": "632fd201-8a76-476f-acb4-60048e5967b9",
   "metadata": {},
   "outputs": [],
   "source": [
    "adaboost_params = {'n_estimators' : [10, 20, 30, 40, 50, 75, 100], 'learning_rate' : [1e-2, 5e-2, 5e-1, 1e-1, 1,]}\n",
    "\n",
    "clf11 = GridSearchCV(AdaBoostClassifier(random_state=132), \n",
    "                     adaboost_params, verbose=1, n_jobs=2, cv=5, scoring=\"f1_micro\")\n",
    "\n",
    "clf11.fit(X_train, y_train)\n",
    "\n",
    "print(clf11.best_params_)\n",
    "print(clf11.scorer_)\n",
    "print(\"Best cv score\", clf11.best_score_)\n",
    "print(\"F1 Score on held out data\", f1_score(y_test, clf11.predict(X_test), average=\"micro\"))"
   ]
  },
  {
   "cell_type": "code",
   "execution_count": null,
   "id": "f9e2ed1f-2ae7-4058-a011-7b1ffe6b52f3",
   "metadata": {},
   "outputs": [],
   "source": [
    "print(classification_report(y_test, clf11.predict(X_test), target_names=y.cat.categories, \n",
    "                            digits=3, zero_division=0))"
   ]
  },
  {
   "cell_type": "code",
   "execution_count": null,
   "id": "97a6ff02-0c29-44ae-ae25-4fa8606db437",
   "metadata": {},
   "outputs": [],
   "source": [
    "# Define a classifier to use for predictions\n",
    "# we choose the one with the highest accuracy, in our case the Random Forest (clf3)\n",
    "best_classifier = max([(clf, clf.score(X_test, y_test.reshape(-1,1))) for clf in \n",
    "                        [clf0, clf1, clf2, clf3, clf4, clf5, clf6, clf7, clf8, clf9, clf10, clf11]], key=lambda x : x[1])[0]\n",
    "\n",
    "clf = best_classifier"
   ]
  },
  {
   "cell_type": "code",
   "execution_count": null,
   "id": "0e920ea7-8994-4542-a89f-71934c4fd97c",
   "metadata": {},
   "outputs": [],
   "source": [
    "# HeatMap\n",
    "conf_matrix_df = pd.DataFrame(confusion_matrix(y_test, clf.predict(X_test)), \n",
    "                              y.cat.categories, y.cat.categories)\n",
    "\n",
    "plt.figure(figsize=(10,10))\n",
    "sns.set(font_scale=1)\n",
    "sns.heatmap(conf_matrix_df, annot=True, cmap=\"OrRd\", annot_kws={'size':12},cbar=False, \n",
    "            linewidths=1.2, linecolor=\"lightgrey\")\n",
    "plt.show()"
   ]
  },
  {
   "cell_type": "markdown",
   "id": "f74f5579-9112-4bcb-b03d-22a7838f3d7d",
   "metadata": {},
   "source": [
    "#### Predict unknown values"
   ]
  },
  {
   "cell_type": "code",
   "execution_count": null,
   "id": "50d675fa-ead5-43b0-9bfc-bef590db14dd",
   "metadata": {},
   "outputs": [],
   "source": [
    "df_unk = df[ df[\"OUTCOME\"].isna() ].copy()"
   ]
  },
  {
   "cell_type": "code",
   "execution_count": null,
   "id": "2ae8a558-bbef-486f-b9a1-3d6f183e8f62",
   "metadata": {},
   "outputs": [],
   "source": [
    "# Follow the same pipeline as before to convert this dataframe to a format that can be passed in a classifier\n",
    "\n",
    "X_unk = df_unk.drop(columns=[\"OUTCOME\"])\n",
    "X_unk_cp = X_unk.copy()\n",
    "\n",
    "column_names = X_unk.columns"
   ]
  },
  {
   "cell_type": "code",
   "execution_count": null,
   "id": "9ea53350-906d-4e2e-985e-39bda04fe990",
   "metadata": {},
   "outputs": [],
   "source": [
    "X_unk = X_unk.drop(columns=[\"TIME_PERIOD\"])\n",
    "X_unk = X_unk[X.columns]"
   ]
  },
  {
   "cell_type": "code",
   "execution_count": null,
   "id": "95ede558-a9ea-401a-a2d0-f38fb5bfb365",
   "metadata": {},
   "outputs": [],
   "source": [
    "X_unk[\"OBS_VALUE\"] = imputer_numeric.transform(X_unk[\"OBS_VALUE\"].values.reshape(-1,1))\n",
    "X_unk = pd.DataFrame(imputer.transform(X_unk), columns=X_unk.columns)\n",
    "X_unk = col_transformer_train.transform(X_unk).toarray()"
   ]
  },
  {
   "cell_type": "code",
   "execution_count": null,
   "id": "c60a9771-db92-4c8e-ab79-a8e3d0607338",
   "metadata": {},
   "outputs": [],
   "source": [
    "y_unk = le.inverse_transform(clf.predict(X_unk).ravel())"
   ]
  },
  {
   "cell_type": "code",
   "execution_count": null,
   "id": "60f66e0f-5e82-412e-af28-55449e1a2b24",
   "metadata": {},
   "outputs": [],
   "source": [
    "predicted_df = pd.concat([X_unk_cp, pd.DataFrame(y_unk, index=X_unk_cp.index, \n",
    "                        columns=[\"PREDICTED_OUTCOME\"])], axis=\"columns\")"
   ]
  },
  {
   "cell_type": "code",
   "execution_count": null,
   "id": "4e681f80-fa12-4e51-b807-9dddb3739299",
   "metadata": {},
   "outputs": [],
   "source": [
    "ax = predicted_df[\"PREDICTED_OUTCOME\"].value_counts(normalize=True, ascending=True).plot.barh(\n",
    "                                                                            figsize=(10,8), width=.8)\n",
    "\n",
    "ax.set_title(\"Predictions of Violence against Women\",fontsize=15)\n",
    "ax.set_xlabel(\"Predicted outcome of VAW in % of total cases with NA values\", fontsize=12)\n",
    "\n",
    "plt.show()"
   ]
  },
  {
   "cell_type": "code",
   "execution_count": null,
   "id": "ca3b7630-42b5-4ae0-9649-d0e5e4767484",
   "metadata": {},
   "outputs": [],
   "source": [
    "# Write final DF with the predictions to a CSV file\n",
    "try:\n",
    "    predicted_df.to_csv(\"Predict_VAW.csv\", na_rep=\"NA\", float_format=\"%.2f\", index=False, encoding=\"utf-8\")\n",
    "except IOError as e:\n",
    "    print(\"ERROR when trying to write to file\", e)"
   ]
  },
  {
   "cell_type": "code",
   "execution_count": null,
   "id": "3d93a18b-355f-4888-b379-aa01ac7756ed",
   "metadata": {},
   "outputs": [],
   "source": []
  }
 ],
 "metadata": {
  "kernelspec": {
   "display_name": "Python 3 (ipykernel)",
   "language": "python",
   "name": "python3"
  },
  "language_info": {
   "codemirror_mode": {
    "name": "ipython",
    "version": 3
   },
   "file_extension": ".py",
   "mimetype": "text/x-python",
   "name": "python",
   "nbconvert_exporter": "python",
   "pygments_lexer": "ipython3",
   "version": "3.9.13"
  }
 },
 "nbformat": 4,
 "nbformat_minor": 5
}
